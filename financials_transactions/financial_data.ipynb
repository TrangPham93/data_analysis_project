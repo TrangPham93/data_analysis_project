{
 "cells": [
  {
   "cell_type": "markdown",
   "metadata": {},
   "source": [
    "# Financial Dataset Analysis\n",
    "(Source: online - missing atm)"
   ]
  },
  {
   "cell_type": "markdown",
   "metadata": {},
   "source": [
    "## Load packages"
   ]
  },
  {
   "cell_type": "code",
   "execution_count": 20,
   "metadata": {},
   "outputs": [],
   "source": [
    "import matplotlib.pyplot as plt\n",
    "import pandas as pd\n",
    "import numpy as np\n",
    "import seaborn as sns\n",
    "import zipfile\n",
    "import io"
   ]
  },
  {
   "cell_type": "markdown",
   "metadata": {},
   "source": [
    "## 1. Data table: cards_data.csv"
   ]
  },
  {
   "cell_type": "markdown",
   "metadata": {},
   "source": [
    "### a. Load dataset"
   ]
  },
  {
   "cell_type": "code",
   "execution_count": 21,
   "metadata": {},
   "outputs": [
    {
     "name": "stdout",
     "output_type": "stream",
     "text": [
      "     id  client_id  card_brand        card_type       card_number  expires  \\\n",
      "0  4524        825        Visa            Debit  4344676511950444  12/2022   \n",
      "1  2731        825        Visa            Debit  4956965974959986  12/2020   \n",
      "2  3701        825        Visa            Debit  4582313478255491  02/2024   \n",
      "3    42        825        Visa           Credit  4879494103069057  08/2024   \n",
      "4  4659        825  Mastercard  Debit (Prepaid)  5722874738736011  03/2009   \n",
      "\n",
      "   cvv has_chip  num_cards_issued credit_limit acct_open_date  \\\n",
      "0  623      YES                 2       $24295        09/2002   \n",
      "1  393      YES                 2       $21968        04/2014   \n",
      "2  719      YES                 2       $46414        07/2003   \n",
      "3  693       NO                 1       $12400        01/2003   \n",
      "4   75      YES                 1          $28        09/2008   \n",
      "\n",
      "   year_pin_last_changed card_on_dark_web  \n",
      "0                   2008               No  \n",
      "1                   2014               No  \n",
      "2                   2004               No  \n",
      "3                   2012               No  \n",
      "4                   2009               No  \n",
      "<class 'pandas.core.frame.DataFrame'>\n",
      "RangeIndex: 6146 entries, 0 to 6145\n",
      "Data columns (total 13 columns):\n",
      " #   Column                 Non-Null Count  Dtype \n",
      "---  ------                 --------------  ----- \n",
      " 0   id                     6146 non-null   int64 \n",
      " 1   client_id              6146 non-null   int64 \n",
      " 2   card_brand             6146 non-null   object\n",
      " 3   card_type              6146 non-null   object\n",
      " 4   card_number            6146 non-null   int64 \n",
      " 5   expires                6146 non-null   object\n",
      " 6   cvv                    6146 non-null   int64 \n",
      " 7   has_chip               6146 non-null   object\n",
      " 8   num_cards_issued       6146 non-null   int64 \n",
      " 9   credit_limit           6146 non-null   object\n",
      " 10  acct_open_date         6146 non-null   object\n",
      " 11  year_pin_last_changed  6146 non-null   int64 \n",
      " 12  card_on_dark_web       6146 non-null   object\n",
      "dtypes: int64(6), object(7)\n",
      "memory usage: 624.3+ KB\n",
      "None\n"
     ]
    }
   ],
   "source": [
    "\n",
    "cards_df = pd.read_csv(\"cards_data.csv\")\n",
    "print(cards_df.head())\n",
    "print(cards_df.info())"
   ]
  },
  {
   "cell_type": "code",
   "execution_count": 22,
   "metadata": {},
   "outputs": [
    {
     "name": "stdout",
     "output_type": "stream",
     "text": [
      "id                        int64\n",
      "client_id                 int64\n",
      "card_brand               object\n",
      "card_type                object\n",
      "card_number               int64\n",
      "expires                  object\n",
      "cvv                       int64\n",
      "has_chip                 object\n",
      "num_cards_issued          int64\n",
      "credit_limit             object\n",
      "acct_open_date           object\n",
      "year_pin_last_changed     int64\n",
      "card_on_dark_web         object\n",
      "dtype: object\n"
     ]
    }
   ],
   "source": [
    "print(cards_df.dtypes)"
   ]
  },
  {
   "cell_type": "markdown",
   "metadata": {},
   "source": [
    "### b. Data Cleaning"
   ]
  },
  {
   "cell_type": "markdown",
   "metadata": {},
   "source": [
    "#### No missing values and no duplicate rows detected"
   ]
  },
  {
   "cell_type": "code",
   "execution_count": 23,
   "metadata": {},
   "outputs": [
    {
     "name": "stdout",
     "output_type": "stream",
     "text": [
      "id                       0\n",
      "client_id                0\n",
      "card_brand               0\n",
      "card_type                0\n",
      "card_number              0\n",
      "expires                  0\n",
      "cvv                      0\n",
      "has_chip                 0\n",
      "num_cards_issued         0\n",
      "credit_limit             0\n",
      "acct_open_date           0\n",
      "year_pin_last_changed    0\n",
      "card_on_dark_web         0\n",
      "dtype: int64\n"
     ]
    }
   ],
   "source": [
    "print(cards_df.isnull().sum())"
   ]
  },
  {
   "cell_type": "code",
   "execution_count": 24,
   "metadata": {},
   "outputs": [
    {
     "name": "stdout",
     "output_type": "stream",
     "text": [
      "0\n"
     ]
    }
   ],
   "source": [
    "print(cards_df.duplicated().sum()) \n",
    "cards_df = cards_df.drop_duplicates()"
   ]
  },
  {
   "cell_type": "code",
   "execution_count": 25,
   "metadata": {},
   "outputs": [
    {
     "name": "stdout",
     "output_type": "stream",
     "text": [
      "Empty DataFrame\n",
      "Columns: [id, client_id, card_brand, card_type, card_number, expires, cvv, has_chip, num_cards_issued, credit_limit, acct_open_date, year_pin_last_changed, card_on_dark_web]\n",
      "Index: []\n"
     ]
    }
   ],
   "source": [
    "duplicated_id = cards_df[\"id\"].duplicated()\n",
    "print(cards_df[duplicated_id])"
   ]
  },
  {
   "cell_type": "code",
   "execution_count": 26,
   "metadata": {},
   "outputs": [],
   "source": [
    "cards_df = cards_df.set_index(\"id\")"
   ]
  },
  {
   "cell_type": "code",
   "execution_count": 27,
   "metadata": {},
   "outputs": [
    {
     "name": "stdout",
     "output_type": "stream",
     "text": [
      "      client_id  card_brand        card_type       card_number  expires  cvv  \\\n",
      "id                                                                             \n",
      "4524        825        Visa            Debit  4344676511950444  12/2022  623   \n",
      "2731        825        Visa            Debit  4956965974959986  12/2020  393   \n",
      "3701        825        Visa            Debit  4582313478255491  02/2024  719   \n",
      "42          825        Visa           Credit  4879494103069057  08/2024  693   \n",
      "4659        825  Mastercard  Debit (Prepaid)  5722874738736011  03/2009   75   \n",
      "\n",
      "     has_chip  num_cards_issued credit_limit acct_open_date  \\\n",
      "id                                                            \n",
      "4524      YES                 2       $24295        09/2002   \n",
      "2731      YES                 2       $21968        04/2014   \n",
      "3701      YES                 2       $46414        07/2003   \n",
      "42         NO                 1       $12400        01/2003   \n",
      "4659      YES                 1          $28        09/2008   \n",
      "\n",
      "      year_pin_last_changed card_on_dark_web  \n",
      "id                                            \n",
      "4524                   2008               No  \n",
      "2731                   2014               No  \n",
      "3701                   2004               No  \n",
      "42                     2012               No  \n",
      "4659                   2009               No  \n"
     ]
    }
   ],
   "source": [
    "print(cards_df.head())"
   ]
  },
  {
   "cell_type": "markdown",
   "metadata": {},
   "source": [
    "#### Remove $ sign, convert the credit_limit column to float"
   ]
  },
  {
   "cell_type": "code",
   "execution_count": 28,
   "metadata": {},
   "outputs": [
    {
     "name": "stdout",
     "output_type": "stream",
     "text": [
      "count      6146.000000\n",
      "mean      14347.493980\n",
      "std       12014.463884\n",
      "min           0.000000\n",
      "25%        7042.750000\n",
      "50%       12592.500000\n",
      "75%       19156.500000\n",
      "max      151223.000000\n",
      "Name: credit_limit, dtype: float64\n"
     ]
    }
   ],
   "source": [
    "\n",
    "cards_df['credit_limit'] = cards_df['credit_limit'].replace(r'\\$','',regex=True).astype(float)\n",
    "print(cards_df['credit_limit'].describe())"
   ]
  },
  {
   "cell_type": "markdown",
   "metadata": {},
   "source": [
    "#### Convert the 'expires' and 'acct_open_date' to datatime values"
   ]
  },
  {
   "cell_type": "code",
   "execution_count": 29,
   "metadata": {},
   "outputs": [
    {
     "name": "stdout",
     "output_type": "stream",
     "text": [
      "id\n",
      "4524   2022-12-01\n",
      "2731   2020-12-01\n",
      "3701   2024-02-01\n",
      "42     2024-08-01\n",
      "4659   2009-03-01\n",
      "          ...    \n",
      "5361   2024-01-01\n",
      "2711   2021-01-01\n",
      "1305   2020-08-01\n",
      "743    2020-01-01\n",
      "3199   2020-12-01\n",
      "Name: expires, Length: 6146, dtype: datetime64[ns]\n"
     ]
    }
   ],
   "source": [
    "cards_df['expires'] = pd.to_datetime(cards_df['expires'], format='%m/%Y', errors='coerce')\n",
    "print(cards_df['expires'])"
   ]
  },
  {
   "cell_type": "code",
   "execution_count": 30,
   "metadata": {},
   "outputs": [
    {
     "name": "stdout",
     "output_type": "stream",
     "text": [
      "id\n",
      "4524   2002-09-01\n",
      "2731   2014-04-01\n",
      "3701   2003-07-01\n",
      "42     2003-01-01\n",
      "4659   2008-09-01\n",
      "          ...    \n",
      "5361   2000-11-01\n",
      "2711   2012-04-01\n",
      "1305   2012-02-01\n",
      "743    2020-01-01\n",
      "3199   2017-05-01\n",
      "Name: acct_open_date, Length: 6146, dtype: datetime64[ns]\n"
     ]
    }
   ],
   "source": [
    "cards_df['acct_open_date'] = pd.to_datetime(cards_df['acct_open_date'], format='%m/%Y', errors='coerce')\n",
    "print(cards_df['acct_open_date'])"
   ]
  },
  {
   "cell_type": "code",
   "execution_count": 31,
   "metadata": {},
   "outputs": [
    {
     "name": "stdout",
     "output_type": "stream",
     "text": [
      "Empty DataFrame\n",
      "Columns: [client_id, card_brand, card_type, card_number, expires, cvv, has_chip, num_cards_issued, credit_limit, acct_open_date, year_pin_last_changed, card_on_dark_web]\n",
      "Index: []\n"
     ]
    }
   ],
   "source": [
    "invalid_acc_open_date = cards_df[cards_df['acct_open_date'].isna()]\n",
    "print(invalid_acc_open_date)"
   ]
  },
  {
   "cell_type": "markdown",
   "metadata": {},
   "source": [
    "### c. Exploratory Data Analysis"
   ]
  },
  {
   "cell_type": "code",
   "execution_count": 32,
   "metadata": {},
   "outputs": [
    {
     "name": "stdout",
     "output_type": "stream",
     "text": [
      "         client_id   card_number                        expires          cvv  \\\n",
      "count  6146.000000  6.146000e+03                           6146  6146.000000   \n",
      "mean    994.939636  4.820426e+15  2020-10-08 06:30:06.443215360   506.220794   \n",
      "min       0.000000  3.001055e+14            1997-07-01 00:00:00     0.000000   \n",
      "25%     492.250000  4.486365e+15            2020-02-01 00:00:00   257.000000   \n",
      "50%     992.000000  5.108957e+15            2021-09-01 00:00:00   516.500000   \n",
      "75%    1495.000000  5.585237e+15            2023-05-01 00:00:00   756.000000   \n",
      "max    1999.000000  6.997197e+15            2024-12-01 00:00:00   999.000000   \n",
      "std     578.614626  1.328582e+15                            NaN   289.431123   \n",
      "\n",
      "       num_cards_issued   credit_limit                 acct_open_date  \\\n",
      "count       6146.000000    6146.000000                           6146   \n",
      "mean           1.503091   14347.493980  2011-01-15 12:55:31.727953152   \n",
      "min            1.000000       0.000000            1991-01-01 00:00:00   \n",
      "25%            1.000000    7042.750000            2006-10-01 00:00:00   \n",
      "50%            1.000000   12592.500000            2010-02-15 00:00:00   \n",
      "75%            2.000000   19156.500000            2016-05-01 00:00:00   \n",
      "max            3.000000  151223.000000            2020-02-01 00:00:00   \n",
      "std            0.519191   12014.463884                            NaN   \n",
      "\n",
      "       year_pin_last_changed  \n",
      "count            6146.000000  \n",
      "mean             2013.436707  \n",
      "min              2002.000000  \n",
      "25%              2010.000000  \n",
      "50%              2013.000000  \n",
      "75%              2017.000000  \n",
      "max              2020.000000  \n",
      "std                 4.270699  \n",
      "        card_brand card_type has_chip card_on_dark_web\n",
      "count         6146      6146     6146             6146\n",
      "unique           4         3        2                1\n",
      "top     Mastercard     Debit      YES               No\n",
      "freq          3209      3511     5500             6146\n"
     ]
    }
   ],
   "source": [
    "print(cards_df.describe())\n",
    "print(cards_df.describe(include=\"object\"))"
   ]
  },
  {
   "cell_type": "markdown",
   "metadata": {},
   "source": [
    "#### Count values for card_brand and card_type"
   ]
  },
  {
   "cell_type": "code",
   "execution_count": 33,
   "metadata": {},
   "outputs": [
    {
     "name": "stdout",
     "output_type": "stream",
     "text": [
      "Card Brand Distribution:\n",
      "card_brand\n",
      "Mastercard    3209\n",
      "Visa          2326\n",
      "Amex           402\n",
      "Discover       209\n",
      "Name: count, dtype: int64\n",
      "\n",
      "Card Type Distribution:\n",
      "card_type\n",
      "Debit              3511\n",
      "Credit             2057\n",
      "Debit (Prepaid)     578\n",
      "Name: count, dtype: int64\n"
     ]
    }
   ],
   "source": [
    "card_brand_distribution = cards_df['card_brand'].value_counts()\n",
    "card_type_distribution = cards_df['card_type'].value_counts()\n",
    "\n",
    "print(\"Card Brand Distribution:\")\n",
    "print(card_brand_distribution)\n",
    "print(\"\\nCard Type Distribution:\")\n",
    "print(card_type_distribution)\n"
   ]
  },
  {
   "cell_type": "markdown",
   "metadata": {},
   "source": [
    "#### Extract and count expiration years"
   ]
  },
  {
   "cell_type": "code",
   "execution_count": 34,
   "metadata": {},
   "outputs": [
    {
     "name": "stdout",
     "output_type": "stream",
     "text": [
      "Card Expiry Trends:\n",
      "expires\n",
      "1997       3\n",
      "1999       4\n",
      "2000       2\n",
      "2001       2\n",
      "2002       7\n",
      "2003       9\n",
      "2004       8\n",
      "2005      11\n",
      "2006      28\n",
      "2007      36\n",
      "2008      39\n",
      "2009      62\n",
      "2010      62\n",
      "2011      64\n",
      "2012      97\n",
      "2013      76\n",
      "2014      84\n",
      "2015      97\n",
      "2016     101\n",
      "2017      86\n",
      "2018     122\n",
      "2019     114\n",
      "2020    1314\n",
      "2021     909\n",
      "2022     939\n",
      "2023     908\n",
      "2024     962\n",
      "Name: count, dtype: int64\n"
     ]
    }
   ],
   "source": [
    "\n",
    "# expiry_trends = cards_df['expires'].dt.year.value_counts().sort_index()\n",
    "expiry_trends = cards_df['expires'].dt.year.value_counts().sort_index()\n",
    "\n",
    "print(\"Card Expiry Trends:\")\n",
    "print(expiry_trends)\n"
   ]
  },
  {
   "cell_type": "markdown",
   "metadata": {},
   "source": [
    "#### Assume today is Jul 1st, 2023, the numbers of credit cards soon expires are 1334"
   ]
  },
  {
   "cell_type": "code",
   "execution_count": 35,
   "metadata": {},
   "outputs": [
    {
     "name": "stdout",
     "output_type": "stream",
     "text": [
      "client_id                1334\n",
      "card_brand               1334\n",
      "card_type                1334\n",
      "card_number              1334\n",
      "expires                  1334\n",
      "cvv                      1334\n",
      "has_chip                 1334\n",
      "num_cards_issued         1334\n",
      "credit_limit             1334\n",
      "acct_open_date           1334\n",
      "year_pin_last_changed    1334\n",
      "card_on_dark_web         1334\n",
      "dtype: int64\n"
     ]
    }
   ],
   "source": [
    "soon_expires = cards_df[cards_df['expires'] > '2023-07-01']\n",
    "print(soon_expires.count())"
   ]
  },
  {
   "cell_type": "code",
   "execution_count": 36,
   "metadata": {},
   "outputs": [
    {
     "name": "stdout",
     "output_type": "stream",
     "text": [
      "bool\n"
     ]
    }
   ],
   "source": [
    "\n",
    "# convert column has_chip and card_on_dark_web to boolen\n",
    "cards_df['has_chip'] = (cards_df['has_chip']).astype(bool, errors='raise')\n",
    "print(cards_df['has_chip'].dtypes)"
   ]
  },
  {
   "cell_type": "code",
   "execution_count": 37,
   "metadata": {},
   "outputs": [
    {
     "name": "stdout",
     "output_type": "stream",
     "text": [
      "client_id                         int64\n",
      "card_brand                       object\n",
      "card_type                        object\n",
      "card_number                       int64\n",
      "expires                  datetime64[ns]\n",
      "cvv                               int64\n",
      "has_chip                           bool\n",
      "num_cards_issued                  int64\n",
      "credit_limit                    float64\n",
      "acct_open_date           datetime64[ns]\n",
      "year_pin_last_changed             int64\n",
      "card_on_dark_web                   bool\n",
      "dtype: object\n"
     ]
    }
   ],
   "source": [
    "cards_df['card_on_dark_web'] = cards_df['card_on_dark_web'].astype(bool, errors='raise')\n",
    "print(cards_df.dtypes)"
   ]
  },
  {
   "cell_type": "code",
   "execution_count": 38,
   "metadata": {},
   "outputs": [
    {
     "name": "stdout",
     "output_type": "stream",
     "text": [
      "Average Credit Limit by Number of Cards Issued:\n",
      "num_cards_issued\n",
      "1    15308.313744\n",
      "2    13426.295087\n",
      "3    10111.000000\n",
      "Name: credit_limit, dtype: float64\n"
     ]
    }
   ],
   "source": [
    "# Group by 'num_cards_issued' and calculate mean credit limit\n",
    "credit_limit_vs_num_cards = cards_df.groupby('num_cards_issued')['credit_limit'].mean()\n",
    "\n",
    "print(\"Average Credit Limit by Number of Cards Issued:\")\n",
    "print(credit_limit_vs_num_cards)\n"
   ]
  },
  {
   "cell_type": "code",
   "execution_count": 39,
   "metadata": {},
   "outputs": [
    {
     "name": "stdout",
     "output_type": "stream",
     "text": [
      "Credit Limit Outlier Statistics:\n",
      "count      6146.000000\n",
      "mean      14347.493980\n",
      "std       12014.463884\n",
      "min           0.000000\n",
      "25%        7042.750000\n",
      "50%       12592.500000\n",
      "75%       19156.500000\n",
      "max      151223.000000\n",
      "Name: credit_limit, dtype: float64\n"
     ]
    }
   ],
   "source": [
    "# Generate descriptive statistics for 'credit_limit'\n",
    "credit_limit_outliers = cards_df['credit_limit'].describe()\n",
    "\n",
    "print(\"Credit Limit Outlier Statistics:\")\n",
    "print(credit_limit_outliers)\n",
    "\n"
   ]
  },
  {
   "cell_type": "code",
   "execution_count": 40,
   "metadata": {},
   "outputs": [
    {
     "name": "stdout",
     "output_type": "stream",
     "text": [
      "\n",
      "Card_brand_distribution:\n",
      "card_brand\n",
      "Mastercard    3209\n",
      "Visa          2326\n",
      "Amex           402\n",
      "Discover       209\n",
      "Name: count, dtype: int64\n",
      "\n",
      "Card_type_distribution:\n",
      "card_type\n",
      "Debit              3511\n",
      "Credit             2057\n",
      "Debit (Prepaid)     578\n",
      "Name: count, dtype: int64\n",
      "\n",
      "Expiry_trends:\n",
      "expires\n",
      "1997       3\n",
      "1999       4\n",
      "2000       2\n",
      "2001       2\n",
      "2002       7\n",
      "2003       9\n",
      "2004       8\n",
      "2005      11\n",
      "2006      28\n",
      "2007      36\n",
      "2008      39\n",
      "2009      62\n",
      "2010      62\n",
      "2011      64\n",
      "2012      97\n",
      "2013      76\n",
      "2014      84\n",
      "2015      97\n",
      "2016     101\n",
      "2017      86\n",
      "2018     122\n",
      "2019     114\n",
      "2020    1314\n",
      "2021     909\n",
      "2022     939\n",
      "2023     908\n",
      "2024     962\n",
      "Name: count, dtype: int64\n",
      "\n",
      "Credit_limit_vs_num_cards:\n",
      "num_cards_issued\n",
      "1    15308.313744\n",
      "2    13426.295087\n",
      "3    10111.000000\n",
      "Name: credit_limit, dtype: float64\n",
      "\n",
      "Credit_limit_outliers:\n",
      "count      6146.000000\n",
      "mean      14347.493980\n",
      "std       12014.463884\n",
      "min           0.000000\n",
      "25%        7042.750000\n",
      "50%       12592.500000\n",
      "75%       19156.500000\n",
      "max      151223.000000\n",
      "Name: credit_limit, dtype: float64\n"
     ]
    }
   ],
   "source": [
    "# Summarize results for further use\n",
    "analysis_results = {\n",
    "    \"card_brand_distribution\": card_brand_distribution,\n",
    "    \"card_type_distribution\": card_type_distribution,\n",
    "    \"expiry_trends\": expiry_trends,\n",
    "    \"credit_limit_vs_num_cards\": credit_limit_vs_num_cards,\n",
    "    \"credit_limit_outliers\": credit_limit_outliers,\n",
    "}\n",
    "\n",
    "# Display results (you can choose to format this for presentation)\n",
    "for key, value in analysis_results.items():\n",
    "    print(f\"\\n{key.capitalize()}:\")\n",
    "    print(value)\n"
   ]
  },
  {
   "cell_type": "markdown",
   "metadata": {},
   "source": [
    "## 2. Data table: transactions_data.csv"
   ]
  },
  {
   "cell_type": "markdown",
   "metadata": {},
   "source": [
    "### a. Load dataset"
   ]
  },
  {
   "cell_type": "markdown",
   "metadata": {},
   "source": [
    "#### Unzip the file and read the csv file into DataFrame"
   ]
  },
  {
   "cell_type": "code",
   "execution_count": 41,
   "metadata": {},
   "outputs": [],
   "source": [
    "with zipfile.ZipFile('transactions_data.zip','r') as zip_ref:\n",
    "\twith zip_ref.open('transactions_data.csv') as file:\n",
    "\t\ttransaction_df = pd.read_csv(io.BytesIO(file.read()))"
   ]
  },
  {
   "cell_type": "code",
   "execution_count": 42,
   "metadata": {},
   "outputs": [
    {
     "name": "stdout",
     "output_type": "stream",
     "text": [
      "<class 'pandas.core.frame.DataFrame'>\n",
      "RangeIndex: 13305915 entries, 0 to 13305914\n",
      "Data columns (total 12 columns):\n",
      " #   Column          Dtype  \n",
      "---  ------          -----  \n",
      " 0   id              int64  \n",
      " 1   date            object \n",
      " 2   client_id       int64  \n",
      " 3   card_id         int64  \n",
      " 4   amount          object \n",
      " 5   use_chip        object \n",
      " 6   merchant_id     int64  \n",
      " 7   merchant_city   object \n",
      " 8   merchant_state  object \n",
      " 9   zip             float64\n",
      " 10  mcc             int64  \n",
      " 11  errors          object \n",
      "dtypes: float64(1), int64(5), object(6)\n",
      "memory usage: 1.2+ GB\n",
      "None\n"
     ]
    }
   ],
   "source": [
    "# transaction_df = pd.read_csv(\"transactions_data.csv\")\n",
    "print(transaction_df.info())"
   ]
  },
  {
   "cell_type": "code",
   "execution_count": 43,
   "metadata": {},
   "outputs": [
    {
     "name": "stdout",
     "output_type": "stream",
     "text": [
      "        id                 date  client_id  card_id   amount  \\\n",
      "0  7475327  2010-01-01 00:01:00       1556     2972  $-77.00   \n",
      "1  7475328  2010-01-01 00:02:00        561     4575   $14.57   \n",
      "2  7475329  2010-01-01 00:02:00       1129      102   $80.00   \n",
      "3  7475331  2010-01-01 00:05:00        430     2860  $200.00   \n",
      "4  7475332  2010-01-01 00:06:00        848     3915   $46.41   \n",
      "\n",
      "            use_chip  merchant_id merchant_city merchant_state      zip   mcc  \\\n",
      "0  Swipe Transaction        59935        Beulah             ND  58523.0  5499   \n",
      "1  Swipe Transaction        67570    Bettendorf             IA  52722.0  5311   \n",
      "2  Swipe Transaction        27092         Vista             CA  92084.0  4829   \n",
      "3  Swipe Transaction        27092   Crown Point             IN  46307.0  4829   \n",
      "4  Swipe Transaction        13051       Harwood             MD  20776.0  5813   \n",
      "\n",
      "  errors  \n",
      "0    NaN  \n",
      "1    NaN  \n",
      "2    NaN  \n",
      "3    NaN  \n",
      "4    NaN  \n"
     ]
    }
   ],
   "source": [
    "print(transaction_df.head())"
   ]
  },
  {
   "cell_type": "markdown",
   "metadata": {},
   "source": [
    "### b. Data inspection"
   ]
  },
  {
   "cell_type": "code",
   "execution_count": 44,
   "metadata": {},
   "outputs": [
    {
     "name": "stdout",
     "output_type": "stream",
     "text": [
      "id                       0\n",
      "date                     0\n",
      "client_id                0\n",
      "card_id                  0\n",
      "amount                   0\n",
      "use_chip                 0\n",
      "merchant_id              0\n",
      "merchant_city            0\n",
      "merchant_state     1563700\n",
      "zip                1652706\n",
      "mcc                      0\n",
      "errors            13094522\n",
      "dtype: int64\n"
     ]
    }
   ],
   "source": [
    "print(transaction_df.isnull().sum())"
   ]
  },
  {
   "cell_type": "code",
   "execution_count": 45,
   "metadata": {},
   "outputs": [
    {
     "name": "stdout",
     "output_type": "stream",
     "text": [
      "0           False\n",
      "1           False\n",
      "2           False\n",
      "3           False\n",
      "4           False\n",
      "            ...  \n",
      "13305910    False\n",
      "13305911    False\n",
      "13305912    False\n",
      "13305913    False\n",
      "13305914    False\n",
      "Length: 13305915, dtype: bool\n"
     ]
    }
   ],
   "source": [
    "print(transaction_df.duplicated())"
   ]
  },
  {
   "cell_type": "code",
   "execution_count": 46,
   "metadata": {},
   "outputs": [
    {
     "data": {
      "text/html": [
       "<div>\n",
       "<style scoped>\n",
       "    .dataframe tbody tr th:only-of-type {\n",
       "        vertical-align: middle;\n",
       "    }\n",
       "\n",
       "    .dataframe tbody tr th {\n",
       "        vertical-align: top;\n",
       "    }\n",
       "\n",
       "    .dataframe thead th {\n",
       "        text-align: right;\n",
       "    }\n",
       "</style>\n",
       "<table border=\"1\" class=\"dataframe\">\n",
       "  <thead>\n",
       "    <tr style=\"text-align: right;\">\n",
       "      <th></th>\n",
       "      <th>id</th>\n",
       "      <th>date</th>\n",
       "      <th>client_id</th>\n",
       "      <th>card_id</th>\n",
       "      <th>amount</th>\n",
       "      <th>use_chip</th>\n",
       "      <th>merchant_id</th>\n",
       "      <th>merchant_city</th>\n",
       "      <th>merchant_state</th>\n",
       "      <th>zip</th>\n",
       "      <th>mcc</th>\n",
       "      <th>errors</th>\n",
       "    </tr>\n",
       "  </thead>\n",
       "  <tbody>\n",
       "  </tbody>\n",
       "</table>\n",
       "</div>"
      ],
      "text/plain": [
       "Empty DataFrame\n",
       "Columns: [id, date, client_id, card_id, amount, use_chip, merchant_id, merchant_city, merchant_state, zip, mcc, errors]\n",
       "Index: []"
      ]
     },
     "execution_count": 46,
     "metadata": {},
     "output_type": "execute_result"
    }
   ],
   "source": [
    "tran_duplicated_id = transaction_df[\"id\"].duplicated()\n",
    "transaction_df[tran_duplicated_id]"
   ]
  },
  {
   "cell_type": "markdown",
   "metadata": {},
   "source": [
    "#### Remove $ sign in amount columns"
   ]
  },
  {
   "cell_type": "code",
   "execution_count": 47,
   "metadata": {},
   "outputs": [
    {
     "name": "stdout",
     "output_type": "stream",
     "text": [
      "0           -77.00\n",
      "1            14.57\n",
      "2            80.00\n",
      "3           200.00\n",
      "4            46.41\n",
      "             ...  \n",
      "13305910      1.11\n",
      "13305911     12.80\n",
      "13305912     40.44\n",
      "13305913      4.00\n",
      "13305914     12.88\n",
      "Name: amount, Length: 13305915, dtype: float64\n"
     ]
    }
   ],
   "source": [
    "\n",
    "transaction_df['amount'] = transaction_df['amount'].replace(r'[\\$,()]','',regex=True).astype(float)\n",
    "print(transaction_df['amount'])"
   ]
  },
  {
   "cell_type": "markdown",
   "metadata": {},
   "source": [
    "#### Convert zip from float to text and remove decimal part of zip number"
   ]
  },
  {
   "cell_type": "code",
   "execution_count": 48,
   "metadata": {},
   "outputs": [],
   "source": [
    "transaction_df['zip'] = transaction_df['zip'].astype(str)\n"
   ]
  },
  {
   "cell_type": "code",
   "execution_count": 49,
   "metadata": {},
   "outputs": [
    {
     "name": "stdout",
     "output_type": "stream",
     "text": [
      "        id                 date  client_id  card_id  amount  \\\n",
      "0  7475327  2010-01-01 00:01:00       1556     2972  -77.00   \n",
      "1  7475328  2010-01-01 00:02:00        561     4575   14.57   \n",
      "2  7475329  2010-01-01 00:02:00       1129      102   80.00   \n",
      "3  7475331  2010-01-01 00:05:00        430     2860  200.00   \n",
      "4  7475332  2010-01-01 00:06:00        848     3915   46.41   \n",
      "\n",
      "            use_chip  merchant_id merchant_city merchant_state    zip   mcc  \\\n",
      "0  Swipe Transaction        59935        Beulah             ND  58523  5499   \n",
      "1  Swipe Transaction        67570    Bettendorf             IA  52722  5311   \n",
      "2  Swipe Transaction        27092         Vista             CA  92084  4829   \n",
      "3  Swipe Transaction        27092   Crown Point             IN  46307  4829   \n",
      "4  Swipe Transaction        13051       Harwood             MD  20776  5813   \n",
      "\n",
      "  errors  \n",
      "0    NaN  \n",
      "1    NaN  \n",
      "2    NaN  \n",
      "3    NaN  \n",
      "4    NaN  \n"
     ]
    }
   ],
   "source": [
    "transaction_df['zip'] = transaction_df['zip'].str.replace('.0', '', regex=False)\n",
    "print(transaction_df.head())"
   ]
  },
  {
   "cell_type": "code",
   "execution_count": 50,
   "metadata": {},
   "outputs": [
    {
     "name": "stdout",
     "output_type": "stream",
     "text": [
      "        id                 date  client_id  card_id  amount  \\\n",
      "0  7475327  2010-01-01 00:01:00       1556     2972  -77.00   \n",
      "1  7475328  2010-01-01 00:02:00        561     4575   14.57   \n",
      "2  7475329  2010-01-01 00:02:00       1129      102   80.00   \n",
      "3  7475331  2010-01-01 00:05:00        430     2860  200.00   \n",
      "4  7475332  2010-01-01 00:06:00        848     3915   46.41   \n",
      "\n",
      "            use_chip  merchant_id merchant_city merchant_state    zip   mcc  \\\n",
      "0  Swipe Transaction        59935        Beulah             ND  58523  5499   \n",
      "1  Swipe Transaction        67570    Bettendorf             IA  52722  5311   \n",
      "2  Swipe Transaction        27092         Vista             CA  92084  4829   \n",
      "3  Swipe Transaction        27092   Crown Point             IN  46307  4829   \n",
      "4  Swipe Transaction        13051       Harwood             MD  20776  5813   \n",
      "\n",
      "  errors  \n",
      "0    NaN  \n",
      "1    NaN  \n",
      "2    NaN  \n",
      "3    NaN  \n",
      "4    NaN  \n"
     ]
    }
   ],
   "source": [
    "transaction_df['zip'] = transaction_df['zip'].str.zfill(5)\n",
    "print(transaction_df.head())"
   ]
  },
  {
   "cell_type": "markdown",
   "metadata": {},
   "source": [
    "#### Convert date from object to datetime type"
   ]
  },
  {
   "cell_type": "code",
   "execution_count": 82,
   "metadata": {},
   "outputs": [
    {
     "name": "stdout",
     "output_type": "stream",
     "text": [
      "        id                date  client_id  card_id  amount           use_chip  \\\n",
      "0  7475327 2010-01-01 00:01:00       1556     2972  -77.00  Swipe Transaction   \n",
      "1  7475328 2010-01-01 00:02:00        561     4575   14.57  Swipe Transaction   \n",
      "2  7475329 2010-01-01 00:02:00       1129      102   80.00  Swipe Transaction   \n",
      "3  7475331 2010-01-01 00:05:00        430     2860  200.00  Swipe Transaction   \n",
      "4  7475332 2010-01-01 00:06:00        848     3915   46.41  Swipe Transaction   \n",
      "\n",
      "   merchant_id merchant_city merchant_state    zip   mcc errors  \\\n",
      "0        59935        Beulah             ND  58523  5499    NaN   \n",
      "1        67570    Bettendorf             IA  52722  5311    NaN   \n",
      "2        27092         Vista             CA  92084  4829    NaN   \n",
      "3        27092   Crown Point             IN  46307  4829    NaN   \n",
      "4        13051       Harwood             MD  20776  5813    NaN   \n",
      "\n",
      "  transaction_type  hour  day_of_week date_not_time  \n",
      "0        In-person     0            4    2010-01-01  \n",
      "1        In-person     0            4    2010-01-01  \n",
      "2        In-person     0            4    2010-01-01  \n",
      "3        In-person     0            4    2010-01-01  \n",
      "4        In-person     0            4    2010-01-01  \n"
     ]
    },
    {
     "data": {
      "text/plain": [
       "id                           int64\n",
       "date                datetime64[ns]\n",
       "client_id                    int64\n",
       "card_id                      int64\n",
       "amount                     float64\n",
       "use_chip                    object\n",
       "merchant_id                  int64\n",
       "merchant_city               object\n",
       "merchant_state              object\n",
       "zip                         object\n",
       "mcc                          int64\n",
       "errors                      object\n",
       "transaction_type            object\n",
       "hour                         int32\n",
       "day_of_week                  int32\n",
       "date_not_time               object\n",
       "dtype: object"
      ]
     },
     "execution_count": 82,
     "metadata": {},
     "output_type": "execute_result"
    }
   ],
   "source": [
    "transaction_df['date']=pd.to_datetime(transaction_df['date'])\n",
    "print(transaction_df.head())\n",
    "transaction_df.dtypes"
   ]
  },
  {
   "cell_type": "markdown",
   "metadata": {},
   "source": [
    "#### Check null values in dataset after transformation"
   ]
  },
  {
   "cell_type": "code",
   "execution_count": 52,
   "metadata": {},
   "outputs": [
    {
     "name": "stdout",
     "output_type": "stream",
     "text": [
      "id                       0\n",
      "date                     0\n",
      "client_id                0\n",
      "card_id                  0\n",
      "amount                   0\n",
      "use_chip                 0\n",
      "merchant_id              0\n",
      "merchant_city            0\n",
      "merchant_state     1563700\n",
      "zip                      0\n",
      "mcc                      0\n",
      "errors            13094522\n",
      "dtype: int64\n"
     ]
    }
   ],
   "source": [
    "print(transaction_df.isnull().sum())"
   ]
  },
  {
   "cell_type": "markdown",
   "metadata": {},
   "source": [
    "### c. Exploratory analysis"
   ]
  },
  {
   "cell_type": "markdown",
   "metadata": {},
   "source": [
    "#### Analyze transaction amount"
   ]
  },
  {
   "cell_type": "code",
   "execution_count": 83,
   "metadata": {},
   "outputs": [
    {
     "data": {
      "image/png": "[encoded data removed]",
      "text/plain": [
       "<Figure size 1000x600 with 1 Axes>"
      ]
     },
     "metadata": {},
     "output_type": "display_data"
    }
   ],
   "source": [
    "fig, ax = plt.subplots(figsize=(10,6))\n",
    "min_amount = transaction_df['amount'].min()\n",
    "max_amount = transaction_df['amount'].max()\n",
    "\n",
    "Z = np.random.normal(transaction_df['amount'].mean(),transaction_df['amount'].std(), 1000)\n",
    "ax.hist(Z, bins=50)\n",
    "ax.set_title(\"Distribution of transaction amount\")\n",
    "ax.set_xlabel(\"Amount\")\n",
    "ax.set_ylabel(\"Density\")\n",
    "ax.set_xlim(min_amount, max_amount)\n",
    "plt.show()\n"
   ]
  },
  {
   "cell_type": "markdown",
   "metadata": {},
   "source": [
    "#### Analyze transaction count over time"
   ]
  },
  {
   "cell_type": "code",
   "execution_count": 84,
   "metadata": {},
   "outputs": [
    {
     "data": {
      "image/png": "[encoded data removed]",
      "text/plain": [
       "<Figure size 1200x600 with 1 Axes>"
      ]
     },
     "metadata": {},
     "output_type": "display_data"
    }
   ],
   "source": [
    "transaction_df['date'].value_counts().sort_index().plot(figsize=(12,6))\n",
    "plt.title('Number of Transactions Over Time')\n",
    "plt.xlabel(\"Year\")\n",
    "plt.ylabel(\"Number of transactions\")\n",
    "plt.show()"
   ]
  },
  {
   "cell_type": "markdown",
   "metadata": {},
   "source": [
    "#### Analyze transactions by merchant category code (MCC)"
   ]
  },
  {
   "cell_type": "code",
   "execution_count": null,
   "metadata": {},
   "outputs": [
    {
     "data": {
      "image/png": "[encoded data removed]",
      "text/plain": [
       "<Figure size 1000x600 with 1 Axes>"
      ]
     },
     "metadata": {},
     "output_type": "display_data"
    }
   ],
   "source": [
    "# Filter DataFrame with the 10th most popular merchant\n",
    "fig, ax = plt.subplots(figsize=(10,6))\n",
    "mcc_counts = transaction_df['mcc'].value_counts()\n",
    "top_10_mcc_counts = mcc_counts.nlargest(10)\n",
    "\n",
    "# Convert mcc code to category, not int for better xtick labels\n",
    "mcc_labels = [ str(mcc) for mcc in top_10_mcc_counts.index]\n",
    "ax.bar(mcc_labels, top_10_mcc_counts.values)\n",
    "ax.set_title('Top 10 Merchant Category Codes')\n",
    "ax.set_xlabel(\"MCC\")\n",
    "ax.set_ylabel(\"Count\")\n",
    "\n",
    "# Adjust y axis\n",
    "ax.set_ylim(0, max(top_10_mcc_counts.values) * 1.1)\n",
    "y_tick_unit = np.arange(0, max(top_10_mcc_counts.values) + 1000, 500000)\n",
    "ax.set_yticks(y_tick_unit)\n",
    "ax.set_yticklabels([f'{int(y/1000)}k' for y in y_tick_unit])\n",
    "\n",
    "# Add values for bar graph to increase visuality\n",
    "for i, v in enumerate(top_10_mcc_counts.values):\n",
    "\tax.text(i, v, f'{int(v/1000)}k',ha='center',va='bottom')\n",
    "\n",
    "# Adjust the graph\n",
    "plt.tight_layout()\n",
    "plt.tick_params(which='major',labelsize=10)\n",
    "plt.show()"
   ]
  },
  {
   "cell_type": "markdown",
   "metadata": {},
   "source": [
    "#### Analyze what types of transactions are popular: online or physical store? "
   ]
  },
  {
   "cell_type": "code",
   "execution_count": 86,
   "metadata": {},
   "outputs": [
    {
     "data": {
      "image/png": "[encoded data removed]",
      "text/plain": [
       "<Figure size 1000x600 with 1 Axes>"
      ]
     },
     "metadata": {},
     "output_type": "display_data"
    }
   ],
   "source": [
    "# Create a new column transaction_type in the dataframe, based on how the card are used.\n",
    "transaction_df['transaction_type'] = transaction_df['use_chip'].apply(lambda x: 'Online' if x=='Online Transaction' else 'In-person')\n",
    "type_count = transaction_df['transaction_type'].value_counts()\n",
    "\n",
    "# Pie chart with percentage of transactions type\n",
    "fig, ax = plt.subplots(figsize=(10,6))\n",
    "ax.pie(type_count, labels=type_count.index, autopct='%1.1f%%')\n",
    "plt.legend(type_count.index, title='Transaction Types', bbox_to_anchor=(0.6,0,0.5,1))\n",
    "plt.title(\"Online vs In-person transactions\")\n",
    "plt.tight_layout()\n",
    "plt.show()"
   ]
  },
  {
   "cell_type": "markdown",
   "metadata": {},
   "source": [
    "#### Split hour of transactions to a new column"
   ]
  },
  {
   "cell_type": "code",
   "execution_count": 87,
   "metadata": {},
   "outputs": [],
   "source": [
    "transaction_df['hour'] = transaction_df['date'].dt.hour"
   ]
  },
  {
   "cell_type": "markdown",
   "metadata": {},
   "source": [
    "#### Add a new custom columns for day_of_week"
   ]
  },
  {
   "cell_type": "code",
   "execution_count": 88,
   "metadata": {},
   "outputs": [],
   "source": [
    "transaction_df['day_of_week'] = transaction_df['date'].dt.day_of_week"
   ]
  },
  {
   "cell_type": "markdown",
   "metadata": {},
   "source": [
    "#### Correlation analysis between value of transaction, hour and day_of_week"
   ]
  },
  {
   "cell_type": "code",
   "execution_count": 64,
   "metadata": {},
   "outputs": [],
   "source": [
    "correlation_matrix = transaction_df[['amount', 'hour', 'day_of_week']].corr()"
   ]
  },
  {
   "cell_type": "code",
   "execution_count": 65,
   "metadata": {},
   "outputs": [
    {
     "data": {
      "image/png": "[encoded data removed]",
      "text/plain": [
       "<Figure size 640x480 with 2 Axes>"
      ]
     },
     "metadata": {},
     "output_type": "display_data"
    }
   ],
   "source": [
    "sns.heatmap(correlation_matrix,annot=True)\n",
    "plt.title(\"Correlation heatmap\")\n",
    "plt.show()"
   ]
  },
  {
   "cell_type": "markdown",
   "metadata": {},
   "source": [
    "#### Add a customer column for date, without the timestamps, to group the dataframe by date of transaction"
   ]
  },
  {
   "cell_type": "code",
   "execution_count": 60,
   "metadata": {},
   "outputs": [
    {
     "data": {
      "text/html": [
       "<div>\n",
       "<style scoped>\n",
       "    .dataframe tbody tr th:only-of-type {\n",
       "        vertical-align: middle;\n",
       "    }\n",
       "\n",
       "    .dataframe tbody tr th {\n",
       "        vertical-align: top;\n",
       "    }\n",
       "\n",
       "    .dataframe thead th {\n",
       "        text-align: right;\n",
       "    }\n",
       "</style>\n",
       "<table border=\"1\" class=\"dataframe\">\n",
       "  <thead>\n",
       "    <tr style=\"text-align: right;\">\n",
       "      <th></th>\n",
       "      <th>id</th>\n",
       "      <th>date</th>\n",
       "      <th>client_id</th>\n",
       "      <th>card_id</th>\n",
       "      <th>amount</th>\n",
       "      <th>use_chip</th>\n",
       "      <th>merchant_id</th>\n",
       "      <th>merchant_city</th>\n",
       "      <th>merchant_state</th>\n",
       "      <th>zip</th>\n",
       "      <th>mcc</th>\n",
       "      <th>errors</th>\n",
       "      <th>transaction_type</th>\n",
       "      <th>hour</th>\n",
       "      <th>day_of_week</th>\n",
       "      <th>date_not_time</th>\n",
       "    </tr>\n",
       "  </thead>\n",
       "  <tbody>\n",
       "    <tr>\n",
       "      <th>0</th>\n",
       "      <td>7475327</td>\n",
       "      <td>2010-01-01 00:01:00</td>\n",
       "      <td>1556</td>\n",
       "      <td>2972</td>\n",
       "      <td>-77.00</td>\n",
       "      <td>Swipe Transaction</td>\n",
       "      <td>59935</td>\n",
       "      <td>Beulah</td>\n",
       "      <td>ND</td>\n",
       "      <td>58523</td>\n",
       "      <td>5499</td>\n",
       "      <td>NaN</td>\n",
       "      <td>In-person</td>\n",
       "      <td>0</td>\n",
       "      <td>4</td>\n",
       "      <td>2010-01-01</td>\n",
       "    </tr>\n",
       "    <tr>\n",
       "      <th>1</th>\n",
       "      <td>7475328</td>\n",
       "      <td>2010-01-01 00:02:00</td>\n",
       "      <td>561</td>\n",
       "      <td>4575</td>\n",
       "      <td>14.57</td>\n",
       "      <td>Swipe Transaction</td>\n",
       "      <td>67570</td>\n",
       "      <td>Bettendorf</td>\n",
       "      <td>IA</td>\n",
       "      <td>52722</td>\n",
       "      <td>5311</td>\n",
       "      <td>NaN</td>\n",
       "      <td>In-person</td>\n",
       "      <td>0</td>\n",
       "      <td>4</td>\n",
       "      <td>2010-01-01</td>\n",
       "    </tr>\n",
       "    <tr>\n",
       "      <th>2</th>\n",
       "      <td>7475329</td>\n",
       "      <td>2010-01-01 00:02:00</td>\n",
       "      <td>1129</td>\n",
       "      <td>102</td>\n",
       "      <td>80.00</td>\n",
       "      <td>Swipe Transaction</td>\n",
       "      <td>27092</td>\n",
       "      <td>Vista</td>\n",
       "      <td>CA</td>\n",
       "      <td>92084</td>\n",
       "      <td>4829</td>\n",
       "      <td>NaN</td>\n",
       "      <td>In-person</td>\n",
       "      <td>0</td>\n",
       "      <td>4</td>\n",
       "      <td>2010-01-01</td>\n",
       "    </tr>\n",
       "    <tr>\n",
       "      <th>3</th>\n",
       "      <td>7475331</td>\n",
       "      <td>2010-01-01 00:05:00</td>\n",
       "      <td>430</td>\n",
       "      <td>2860</td>\n",
       "      <td>200.00</td>\n",
       "      <td>Swipe Transaction</td>\n",
       "      <td>27092</td>\n",
       "      <td>Crown Point</td>\n",
       "      <td>IN</td>\n",
       "      <td>46307</td>\n",
       "      <td>4829</td>\n",
       "      <td>NaN</td>\n",
       "      <td>In-person</td>\n",
       "      <td>0</td>\n",
       "      <td>4</td>\n",
       "      <td>2010-01-01</td>\n",
       "    </tr>\n",
       "    <tr>\n",
       "      <th>4</th>\n",
       "      <td>7475332</td>\n",
       "      <td>2010-01-01 00:06:00</td>\n",
       "      <td>848</td>\n",
       "      <td>3915</td>\n",
       "      <td>46.41</td>\n",
       "      <td>Swipe Transaction</td>\n",
       "      <td>13051</td>\n",
       "      <td>Harwood</td>\n",
       "      <td>MD</td>\n",
       "      <td>20776</td>\n",
       "      <td>5813</td>\n",
       "      <td>NaN</td>\n",
       "      <td>In-person</td>\n",
       "      <td>0</td>\n",
       "      <td>4</td>\n",
       "      <td>2010-01-01</td>\n",
       "    </tr>\n",
       "    <tr>\n",
       "      <th>...</th>\n",
       "      <td>...</td>\n",
       "      <td>...</td>\n",
       "      <td>...</td>\n",
       "      <td>...</td>\n",
       "      <td>...</td>\n",
       "      <td>...</td>\n",
       "      <td>...</td>\n",
       "      <td>...</td>\n",
       "      <td>...</td>\n",
       "      <td>...</td>\n",
       "      <td>...</td>\n",
       "      <td>...</td>\n",
       "      <td>...</td>\n",
       "      <td>...</td>\n",
       "      <td>...</td>\n",
       "      <td>...</td>\n",
       "    </tr>\n",
       "    <tr>\n",
       "      <th>13305910</th>\n",
       "      <td>23761868</td>\n",
       "      <td>2019-10-31 23:56:00</td>\n",
       "      <td>1718</td>\n",
       "      <td>2379</td>\n",
       "      <td>1.11</td>\n",
       "      <td>Chip Transaction</td>\n",
       "      <td>86438</td>\n",
       "      <td>West Covina</td>\n",
       "      <td>CA</td>\n",
       "      <td>91792</td>\n",
       "      <td>5499</td>\n",
       "      <td>NaN</td>\n",
       "      <td>In-person</td>\n",
       "      <td>23</td>\n",
       "      <td>3</td>\n",
       "      <td>2019-10-31</td>\n",
       "    </tr>\n",
       "    <tr>\n",
       "      <th>13305911</th>\n",
       "      <td>23761869</td>\n",
       "      <td>2019-10-31 23:56:00</td>\n",
       "      <td>1766</td>\n",
       "      <td>2066</td>\n",
       "      <td>12.80</td>\n",
       "      <td>Online Transaction</td>\n",
       "      <td>39261</td>\n",
       "      <td>ONLINE</td>\n",
       "      <td>NaN</td>\n",
       "      <td>00nan</td>\n",
       "      <td>5815</td>\n",
       "      <td>NaN</td>\n",
       "      <td>Online</td>\n",
       "      <td>23</td>\n",
       "      <td>3</td>\n",
       "      <td>2019-10-31</td>\n",
       "    </tr>\n",
       "    <tr>\n",
       "      <th>13305912</th>\n",
       "      <td>23761870</td>\n",
       "      <td>2019-10-31 23:57:00</td>\n",
       "      <td>199</td>\n",
       "      <td>1031</td>\n",
       "      <td>40.44</td>\n",
       "      <td>Swipe Transaction</td>\n",
       "      <td>2925</td>\n",
       "      <td>Allen</td>\n",
       "      <td>TX</td>\n",
       "      <td>75002</td>\n",
       "      <td>4900</td>\n",
       "      <td>NaN</td>\n",
       "      <td>In-person</td>\n",
       "      <td>23</td>\n",
       "      <td>3</td>\n",
       "      <td>2019-10-31</td>\n",
       "    </tr>\n",
       "    <tr>\n",
       "      <th>13305913</th>\n",
       "      <td>23761873</td>\n",
       "      <td>2019-10-31 23:58:00</td>\n",
       "      <td>1986</td>\n",
       "      <td>5443</td>\n",
       "      <td>4.00</td>\n",
       "      <td>Chip Transaction</td>\n",
       "      <td>46284</td>\n",
       "      <td>Daly City</td>\n",
       "      <td>CA</td>\n",
       "      <td>94014</td>\n",
       "      <td>5411</td>\n",
       "      <td>NaN</td>\n",
       "      <td>In-person</td>\n",
       "      <td>23</td>\n",
       "      <td>3</td>\n",
       "      <td>2019-10-31</td>\n",
       "    </tr>\n",
       "    <tr>\n",
       "      <th>13305914</th>\n",
       "      <td>23761874</td>\n",
       "      <td>2019-10-31 23:59:00</td>\n",
       "      <td>489</td>\n",
       "      <td>5697</td>\n",
       "      <td>12.88</td>\n",
       "      <td>Chip Transaction</td>\n",
       "      <td>24658</td>\n",
       "      <td>Greenbrier</td>\n",
       "      <td>TN</td>\n",
       "      <td>37073</td>\n",
       "      <td>5921</td>\n",
       "      <td>NaN</td>\n",
       "      <td>In-person</td>\n",
       "      <td>23</td>\n",
       "      <td>3</td>\n",
       "      <td>2019-10-31</td>\n",
       "    </tr>\n",
       "  </tbody>\n",
       "</table>\n",
       "<p>13305915 rows × 16 columns</p>\n",
       "</div>"
      ],
      "text/plain": [
       "                id                date  client_id  card_id  amount  \\\n",
       "0          7475327 2010-01-01 00:01:00       1556     2972  -77.00   \n",
       "1          7475328 2010-01-01 00:02:00        561     4575   14.57   \n",
       "2          7475329 2010-01-01 00:02:00       1129      102   80.00   \n",
       "3          7475331 2010-01-01 00:05:00        430     2860  200.00   \n",
       "4          7475332 2010-01-01 00:06:00        848     3915   46.41   \n",
       "...            ...                 ...        ...      ...     ...   \n",
       "13305910  23761868 2019-10-31 23:56:00       1718     2379    1.11   \n",
       "13305911  23761869 2019-10-31 23:56:00       1766     2066   12.80   \n",
       "13305912  23761870 2019-10-31 23:57:00        199     1031   40.44   \n",
       "13305913  23761873 2019-10-31 23:58:00       1986     5443    4.00   \n",
       "13305914  23761874 2019-10-31 23:59:00        489     5697   12.88   \n",
       "\n",
       "                    use_chip  merchant_id merchant_city merchant_state    zip  \\\n",
       "0          Swipe Transaction        59935        Beulah             ND  58523   \n",
       "1          Swipe Transaction        67570    Bettendorf             IA  52722   \n",
       "2          Swipe Transaction        27092         Vista             CA  92084   \n",
       "3          Swipe Transaction        27092   Crown Point             IN  46307   \n",
       "4          Swipe Transaction        13051       Harwood             MD  20776   \n",
       "...                      ...          ...           ...            ...    ...   \n",
       "13305910    Chip Transaction        86438   West Covina             CA  91792   \n",
       "13305911  Online Transaction        39261        ONLINE            NaN  00nan   \n",
       "13305912   Swipe Transaction         2925         Allen             TX  75002   \n",
       "13305913    Chip Transaction        46284     Daly City             CA  94014   \n",
       "13305914    Chip Transaction        24658    Greenbrier             TN  37073   \n",
       "\n",
       "           mcc errors transaction_type  hour  day_of_week date_not_time  \n",
       "0         5499    NaN        In-person     0            4    2010-01-01  \n",
       "1         5311    NaN        In-person     0            4    2010-01-01  \n",
       "2         4829    NaN        In-person     0            4    2010-01-01  \n",
       "3         4829    NaN        In-person     0            4    2010-01-01  \n",
       "4         5813    NaN        In-person     0            4    2010-01-01  \n",
       "...        ...    ...              ...   ...          ...           ...  \n",
       "13305910  5499    NaN        In-person    23            3    2019-10-31  \n",
       "13305911  5815    NaN           Online    23            3    2019-10-31  \n",
       "13305912  4900    NaN        In-person    23            3    2019-10-31  \n",
       "13305913  5411    NaN        In-person    23            3    2019-10-31  \n",
       "13305914  5921    NaN        In-person    23            3    2019-10-31  \n",
       "\n",
       "[13305915 rows x 16 columns]"
      ]
     },
     "execution_count": 60,
     "metadata": {},
     "output_type": "execute_result"
    }
   ],
   "source": [
    "transaction_df['date_not_time'] = transaction_df['date'].dt.date\n",
    "transaction_df"
   ]
  },
  {
   "cell_type": "markdown",
   "metadata": {},
   "source": [
    "#### Calculate total value and count number of daily transactions, save in the daily_transaction DataFrame"
   ]
  },
  {
   "cell_type": "code",
   "execution_count": 89,
   "metadata": {},
   "outputs": [],
   "source": [
    "daily_transaction = transaction_df.groupby(transaction_df['date_not_time'])['amount'].agg(['count','sum'])"
   ]
  },
  {
   "cell_type": "code",
   "execution_count": 90,
   "metadata": {},
   "outputs": [
    {
     "data": {
      "text/html": [
       "<div>\n",
       "<style scoped>\n",
       "    .dataframe tbody tr th:only-of-type {\n",
       "        vertical-align: middle;\n",
       "    }\n",
       "\n",
       "    .dataframe tbody tr th {\n",
       "        vertical-align: top;\n",
       "    }\n",
       "\n",
       "    .dataframe thead th {\n",
       "        text-align: right;\n",
       "    }\n",
       "</style>\n",
       "<table border=\"1\" class=\"dataframe\">\n",
       "  <thead>\n",
       "    <tr style=\"text-align: right;\">\n",
       "      <th></th>\n",
       "      <th>count</th>\n",
       "      <th>sum</th>\n",
       "    </tr>\n",
       "    <tr>\n",
       "      <th>date_not_time</th>\n",
       "      <th></th>\n",
       "      <th></th>\n",
       "    </tr>\n",
       "  </thead>\n",
       "  <tbody>\n",
       "    <tr>\n",
       "      <th>2010-01-01</th>\n",
       "      <td>3463</td>\n",
       "      <td>124498.32</td>\n",
       "    </tr>\n",
       "    <tr>\n",
       "      <th>2010-01-02</th>\n",
       "      <td>2989</td>\n",
       "      <td>138700.62</td>\n",
       "    </tr>\n",
       "    <tr>\n",
       "      <th>2010-01-03</th>\n",
       "      <td>3311</td>\n",
       "      <td>135016.77</td>\n",
       "    </tr>\n",
       "    <tr>\n",
       "      <th>2010-01-04</th>\n",
       "      <td>3244</td>\n",
       "      <td>131315.75</td>\n",
       "    </tr>\n",
       "    <tr>\n",
       "      <th>2010-01-05</th>\n",
       "      <td>3330</td>\n",
       "      <td>143760.66</td>\n",
       "    </tr>\n",
       "    <tr>\n",
       "      <th>...</th>\n",
       "      <td>...</td>\n",
       "      <td>...</td>\n",
       "    </tr>\n",
       "    <tr>\n",
       "      <th>2019-10-27</th>\n",
       "      <td>3866</td>\n",
       "      <td>154794.08</td>\n",
       "    </tr>\n",
       "    <tr>\n",
       "      <th>2019-10-28</th>\n",
       "      <td>3944</td>\n",
       "      <td>168231.71</td>\n",
       "    </tr>\n",
       "    <tr>\n",
       "      <th>2019-10-29</th>\n",
       "      <td>3552</td>\n",
       "      <td>160928.07</td>\n",
       "    </tr>\n",
       "    <tr>\n",
       "      <th>2019-10-30</th>\n",
       "      <td>3562</td>\n",
       "      <td>157791.07</td>\n",
       "    </tr>\n",
       "    <tr>\n",
       "      <th>2019-10-31</th>\n",
       "      <td>3978</td>\n",
       "      <td>158747.19</td>\n",
       "    </tr>\n",
       "  </tbody>\n",
       "</table>\n",
       "<p>3591 rows × 2 columns</p>\n",
       "</div>"
      ],
      "text/plain": [
       "               count        sum\n",
       "date_not_time                  \n",
       "2010-01-01      3463  124498.32\n",
       "2010-01-02      2989  138700.62\n",
       "2010-01-03      3311  135016.77\n",
       "2010-01-04      3244  131315.75\n",
       "2010-01-05      3330  143760.66\n",
       "...              ...        ...\n",
       "2019-10-27      3866  154794.08\n",
       "2019-10-28      3944  168231.71\n",
       "2019-10-29      3552  160928.07\n",
       "2019-10-30      3562  157791.07\n",
       "2019-10-31      3978  158747.19\n",
       "\n",
       "[3591 rows x 2 columns]"
      ]
     },
     "execution_count": 90,
     "metadata": {},
     "output_type": "execute_result"
    }
   ],
   "source": [
    "daily_transaction"
   ]
  },
  {
   "cell_type": "markdown",
   "metadata": {},
   "source": [
    "#### Plot the daily counts and value of transactions"
   ]
  },
  {
   "cell_type": "code",
   "execution_count": 107,
   "metadata": {},
   "outputs": [
    {
     "data": {
      "image/png": "[encoded data removed]",
      "text/plain": [
       "<Figure size 1000x600 with 2 Axes>"
      ]
     },
     "metadata": {},
     "output_type": "display_data"
    }
   ],
   "source": [
    "fig, ax = plt.subplots(figsize=(10,6))\n",
    "ax.plot(daily_transaction.index, daily_transaction['count'], label='Transaction counts')\n",
    "ax.set_ylabel('Transaction counts')\n",
    "ax2 = ax.twinx()\n",
    "ax2.plot(daily_transaction.index, daily_transaction['sum'], label='Transaction value $', color ='red')\n",
    "ax2.set_ylabel('Transaction value $')\n",
    "ax.set_title(\"Transactions value daily\")\n",
    "ax.set_xlabel('Date')\n",
    "\n",
    "# Handle legend\n",
    "line1, legend1 = ax.get_legend_handles_labels()\n",
    "line2, legend2 = ax2.get_legend_handles_labels()\n",
    "ax.legend(line1+line2, legend1+legend2, loc = 'upper left')\n",
    "plt.tight_layout()\n",
    "plt.show()"
   ]
  },
  {
   "cell_type": "markdown",
   "metadata": {},
   "source": [
    "#### Analyze average transaction value by hour"
   ]
  },
  {
   "cell_type": "code",
   "execution_count": 91,
   "metadata": {},
   "outputs": [
    {
     "data": {
      "image/png": "[encoded data removed]",
      "text/plain": [
       "<Figure size 1200x600 with 1 Axes>"
      ]
     },
     "metadata": {},
     "output_type": "display_data"
    }
   ],
   "source": [
    "hourly_ave_df = transaction_df.groupby(transaction_df['hour'])['amount'].mean()\n",
    "hourly_ave_df.plot(kind='bar', figsize=(12,6))\n",
    "\n",
    "plt.xticks(rotation=0)\n",
    "plt.ylabel('Average $', loc='top', rotation=0)\n",
    "\n",
    "plt.title('Average transaction value by hour')\n",
    "plt.show()"
   ]
  },
  {
   "cell_type": "markdown",
   "metadata": {},
   "source": [
    "#### Check whether the DataFrame is missing a lot of value in column merchant_state"
   ]
  },
  {
   "cell_type": "code",
   "execution_count": 92,
   "metadata": {},
   "outputs": [
    {
     "data": {
      "text/html": [
       "<div>\n",
       "<style scoped>\n",
       "    .dataframe tbody tr th:only-of-type {\n",
       "        vertical-align: middle;\n",
       "    }\n",
       "\n",
       "    .dataframe tbody tr th {\n",
       "        vertical-align: top;\n",
       "    }\n",
       "\n",
       "    .dataframe thead th {\n",
       "        text-align: right;\n",
       "    }\n",
       "</style>\n",
       "<table border=\"1\" class=\"dataframe\">\n",
       "  <thead>\n",
       "    <tr style=\"text-align: right;\">\n",
       "      <th></th>\n",
       "      <th>id</th>\n",
       "      <th>date</th>\n",
       "      <th>client_id</th>\n",
       "      <th>card_id</th>\n",
       "      <th>amount</th>\n",
       "      <th>use_chip</th>\n",
       "      <th>merchant_id</th>\n",
       "      <th>merchant_city</th>\n",
       "      <th>merchant_state</th>\n",
       "      <th>zip</th>\n",
       "      <th>mcc</th>\n",
       "      <th>errors</th>\n",
       "      <th>transaction_type</th>\n",
       "      <th>hour</th>\n",
       "      <th>day_of_week</th>\n",
       "      <th>date_not_time</th>\n",
       "    </tr>\n",
       "  </thead>\n",
       "  <tbody>\n",
       "    <tr>\n",
       "      <th>7</th>\n",
       "      <td>7475335</td>\n",
       "      <td>2010-01-01 00:14:00</td>\n",
       "      <td>1684</td>\n",
       "      <td>2140</td>\n",
       "      <td>26.46</td>\n",
       "      <td>Online Transaction</td>\n",
       "      <td>39021</td>\n",
       "      <td>ONLINE</td>\n",
       "      <td>NaN</td>\n",
       "      <td>00nan</td>\n",
       "      <td>4784</td>\n",
       "      <td>NaN</td>\n",
       "      <td>Online</td>\n",
       "      <td>0</td>\n",
       "      <td>4</td>\n",
       "      <td>2010-01-01</td>\n",
       "    </tr>\n",
       "    <tr>\n",
       "      <th>8</th>\n",
       "      <td>7475336</td>\n",
       "      <td>2010-01-01 00:21:00</td>\n",
       "      <td>335</td>\n",
       "      <td>5131</td>\n",
       "      <td>261.58</td>\n",
       "      <td>Online Transaction</td>\n",
       "      <td>50292</td>\n",
       "      <td>ONLINE</td>\n",
       "      <td>NaN</td>\n",
       "      <td>00nan</td>\n",
       "      <td>7801</td>\n",
       "      <td>NaN</td>\n",
       "      <td>Online</td>\n",
       "      <td>0</td>\n",
       "      <td>4</td>\n",
       "      <td>2010-01-01</td>\n",
       "    </tr>\n",
       "    <tr>\n",
       "      <th>18</th>\n",
       "      <td>7475346</td>\n",
       "      <td>2010-01-01 00:34:00</td>\n",
       "      <td>394</td>\n",
       "      <td>4717</td>\n",
       "      <td>26.04</td>\n",
       "      <td>Online Transaction</td>\n",
       "      <td>39021</td>\n",
       "      <td>ONLINE</td>\n",
       "      <td>NaN</td>\n",
       "      <td>00nan</td>\n",
       "      <td>4784</td>\n",
       "      <td>NaN</td>\n",
       "      <td>Online</td>\n",
       "      <td>0</td>\n",
       "      <td>4</td>\n",
       "      <td>2010-01-01</td>\n",
       "    </tr>\n",
       "    <tr>\n",
       "      <th>24</th>\n",
       "      <td>7475353</td>\n",
       "      <td>2010-01-01 00:43:00</td>\n",
       "      <td>301</td>\n",
       "      <td>3742</td>\n",
       "      <td>10.17</td>\n",
       "      <td>Online Transaction</td>\n",
       "      <td>39021</td>\n",
       "      <td>ONLINE</td>\n",
       "      <td>NaN</td>\n",
       "      <td>00nan</td>\n",
       "      <td>4784</td>\n",
       "      <td>NaN</td>\n",
       "      <td>Online</td>\n",
       "      <td>0</td>\n",
       "      <td>4</td>\n",
       "      <td>2010-01-01</td>\n",
       "    </tr>\n",
       "    <tr>\n",
       "      <th>26</th>\n",
       "      <td>7475356</td>\n",
       "      <td>2010-01-01 00:45:00</td>\n",
       "      <td>566</td>\n",
       "      <td>3439</td>\n",
       "      <td>16.86</td>\n",
       "      <td>Online Transaction</td>\n",
       "      <td>16798</td>\n",
       "      <td>ONLINE</td>\n",
       "      <td>NaN</td>\n",
       "      <td>00nan</td>\n",
       "      <td>4121</td>\n",
       "      <td>NaN</td>\n",
       "      <td>Online</td>\n",
       "      <td>0</td>\n",
       "      <td>4</td>\n",
       "      <td>2010-01-01</td>\n",
       "    </tr>\n",
       "  </tbody>\n",
       "</table>\n",
       "</div>"
      ],
      "text/plain": [
       "         id                date  client_id  card_id  amount  \\\n",
       "7   7475335 2010-01-01 00:14:00       1684     2140   26.46   \n",
       "8   7475336 2010-01-01 00:21:00        335     5131  261.58   \n",
       "18  7475346 2010-01-01 00:34:00        394     4717   26.04   \n",
       "24  7475353 2010-01-01 00:43:00        301     3742   10.17   \n",
       "26  7475356 2010-01-01 00:45:00        566     3439   16.86   \n",
       "\n",
       "              use_chip  merchant_id merchant_city merchant_state    zip   mcc  \\\n",
       "7   Online Transaction        39021        ONLINE            NaN  00nan  4784   \n",
       "8   Online Transaction        50292        ONLINE            NaN  00nan  7801   \n",
       "18  Online Transaction        39021        ONLINE            NaN  00nan  4784   \n",
       "24  Online Transaction        39021        ONLINE            NaN  00nan  4784   \n",
       "26  Online Transaction        16798        ONLINE            NaN  00nan  4121   \n",
       "\n",
       "   errors transaction_type  hour  day_of_week date_not_time  \n",
       "7     NaN           Online     0            4    2010-01-01  \n",
       "8     NaN           Online     0            4    2010-01-01  \n",
       "18    NaN           Online     0            4    2010-01-01  \n",
       "24    NaN           Online     0            4    2010-01-01  \n",
       "26    NaN           Online     0            4    2010-01-01  "
      ]
     },
     "execution_count": 92,
     "metadata": {},
     "output_type": "execute_result"
    }
   ],
   "source": [
    "# transaction_df_test = transaction_df[transaction_df['merchant_city'] == 'ONLINE']\n",
    "transaction_df_test = transaction_df[transaction_df['merchant_state'].isna()]\n",
    "transaction_df_test.head()"
   ]
  },
  {
   "cell_type": "markdown",
   "metadata": {},
   "source": [
    "#### Analyze the numbers of transaction by merchant_state (20 largest states)"
   ]
  },
  {
   "cell_type": "code",
   "execution_count": 97,
   "metadata": {},
   "outputs": [
    {
     "data": {
      "text/plain": [
       "merchant_state\n",
       "CA    1427087\n",
       "TX    1010207\n",
       "NY     857510\n",
       "FL     701623\n",
       "OH     484122\n",
       "Name: count, dtype: int64"
      ]
     },
     "execution_count": 97,
     "metadata": {},
     "output_type": "execute_result"
    }
   ],
   "source": [
    "state_transaction = transaction_df['merchant_state'].value_counts()\n",
    "state_transaction.head()"
   ]
  },
  {
   "cell_type": "code",
   "execution_count": 104,
   "metadata": {},
   "outputs": [
    {
     "data": {
      "image/png": "[encoded data removed]",
      "text/plain": [
       "<Figure size 1200x600 with 1 Axes>"
      ]
     },
     "metadata": {},
     "output_type": "display_data"
    }
   ],
   "source": [
    "fig, ax = plt.subplots(figsize=(12,6))\n",
    "top_20_state_df = state_transaction.sort_values().nlargest(20)\n",
    "ax.bar(top_20_state_df.index, top_20_state_df.values)\n",
    "\n",
    "y_tick_unit = np.arange(0, max(top_20_state_df.values) + 100000, 250000)\n",
    "ax.set_ylim(0, max(top_20_state_df.values) *1.1)\n",
    "ax.set_yticks(y_tick_unit)\n",
    "ax.set_yticklabels([f'{int(x/1000)}k' for x in y_tick_unit])\n",
    "ax.set_title('Top 20 states by transaction values')\n",
    "\n",
    "plt.ylabel('Transaction count', loc='top', rotation=0)\n",
    "plt.tight_layout()\n",
    "plt.show()"
   ]
  },
  {
   "cell_type": "markdown",
   "metadata": {},
   "source": [
    "#### Customer Segmentation Analysis"
   ]
  },
  {
   "cell_type": "code",
   "execution_count": 105,
   "metadata": {},
   "outputs": [
    {
     "data": {
      "text/html": [
       "<div>\n",
       "<style scoped>\n",
       "    .dataframe tbody tr th:only-of-type {\n",
       "        vertical-align: middle;\n",
       "    }\n",
       "\n",
       "    .dataframe tbody tr th {\n",
       "        vertical-align: top;\n",
       "    }\n",
       "\n",
       "    .dataframe thead th {\n",
       "        text-align: right;\n",
       "    }\n",
       "</style>\n",
       "<table border=\"1\" class=\"dataframe\">\n",
       "  <thead>\n",
       "    <tr style=\"text-align: right;\">\n",
       "      <th></th>\n",
       "      <th>client_id</th>\n",
       "      <th>total_spend</th>\n",
       "      <th>transaction_count</th>\n",
       "      <th>last_transaction_date</th>\n",
       "      <th>recency</th>\n",
       "    </tr>\n",
       "  </thead>\n",
       "  <tbody>\n",
       "    <tr>\n",
       "      <th>0</th>\n",
       "      <td>0</td>\n",
       "      <td>625799.67</td>\n",
       "      <td>12795</td>\n",
       "      <td>2019-10-31 19:14:00</td>\n",
       "      <td>0</td>\n",
       "    </tr>\n",
       "    <tr>\n",
       "      <th>1</th>\n",
       "      <td>1</td>\n",
       "      <td>336187.37</td>\n",
       "      <td>10073</td>\n",
       "      <td>2019-10-31 16:15:00</td>\n",
       "      <td>0</td>\n",
       "    </tr>\n",
       "    <tr>\n",
       "      <th>2</th>\n",
       "      <td>2</td>\n",
       "      <td>291534.27</td>\n",
       "      <td>10612</td>\n",
       "      <td>2019-10-31 16:21:00</td>\n",
       "      <td>0</td>\n",
       "    </tr>\n",
       "    <tr>\n",
       "      <th>3</th>\n",
       "      <td>3</td>\n",
       "      <td>280685.46</td>\n",
       "      <td>6001</td>\n",
       "      <td>2019-10-31 14:30:00</td>\n",
       "      <td>0</td>\n",
       "    </tr>\n",
       "    <tr>\n",
       "      <th>4</th>\n",
       "      <td>4</td>\n",
       "      <td>595722.36</td>\n",
       "      <td>15043</td>\n",
       "      <td>2019-10-31 21:26:00</td>\n",
       "      <td>0</td>\n",
       "    </tr>\n",
       "  </tbody>\n",
       "</table>\n",
       "</div>"
      ],
      "text/plain": [
       "   client_id  total_spend  transaction_count last_transaction_date  recency\n",
       "0          0    625799.67              12795   2019-10-31 19:14:00        0\n",
       "1          1    336187.37              10073   2019-10-31 16:15:00        0\n",
       "2          2    291534.27              10612   2019-10-31 16:21:00        0\n",
       "3          3    280685.46               6001   2019-10-31 14:30:00        0\n",
       "4          4    595722.36              15043   2019-10-31 21:26:00        0"
      ]
     },
     "execution_count": 105,
     "metadata": {},
     "output_type": "execute_result"
    }
   ],
   "source": [
    "customer_summary_df = transaction_df.groupby(transaction_df['client_id']).agg({'amount':['sum','count'], 'date': 'max'})\n",
    "customer_summary_df.reset_index(inplace=True)\n",
    "customer_summary_df.columns = ['client_id', 'total_spend', 'transaction_count', 'last_transaction_date']\n",
    "data_last_date = transaction_df['date'].max()\n",
    "customer_summary_df['recency'] = (data_last_date - customer_summary_df['last_transaction_date']).dt.days\n",
    "customer_summary_df.head()\n"
   ]
  },
  {
   "cell_type": "code",
   "execution_count": 70,
   "metadata": {},
   "outputs": [
    {
     "data": {
      "image/png": "[encoded data removed]",
      "text/plain": [
       "<Figure size 1200x600 with 1 Axes>"
      ]
     },
     "metadata": {},
     "output_type": "display_data"
    }
   ],
   "source": [
    "fig, ax = plt.subplots(figsize=(12,6))\n",
    "ax.scatter(customer_summary_df['recency'], customer_summary_df['total_spend'], c=customer_summary_df['transaction_count'], \n",
    "\t\t   s=customer_summary_df['transaction_count'], alpha=0.25)\n",
    "\n",
    "y_tick_unit = np.arange(0, max(customer_summary_df['total_spend']) +500000, 500000)\n",
    "ax.set_ylim(0, max(customer_summary_df['total_spend']) * 1.1)\n",
    "ax.set_yticks(y_tick_unit)\n",
    "ax.set_yticklabels([f'{int(y/1000)}k' for y in y_tick_unit])\n",
    "\n",
    "\n",
    "plt.xlabel('Recency (days)')\n",
    "plt.ylabel('Total spend $', loc='top', rotation=0)\n",
    "plt.title('Customer Segmentation')\n",
    "plt.tight_layout()\n",
    "plt.show()"
   ]
  },
  {
   "cell_type": "markdown",
   "metadata": {},
   "source": [
    "## 3. Data table: user_data.csv"
   ]
  },
  {
   "cell_type": "markdown",
   "metadata": {},
   "source": [
    "### a. Load data"
   ]
  },
  {
   "cell_type": "markdown",
   "metadata": {},
   "source": [
    "#### Read the csv file, sort by the customer id and reset the index"
   ]
  },
  {
   "cell_type": "code",
   "execution_count": 71,
   "metadata": {},
   "outputs": [
    {
     "data": {
      "text/html": [
       "<div>\n",
       "<style scoped>\n",
       "    .dataframe tbody tr th:only-of-type {\n",
       "        vertical-align: middle;\n",
       "    }\n",
       "\n",
       "    .dataframe tbody tr th {\n",
       "        vertical-align: top;\n",
       "    }\n",
       "\n",
       "    .dataframe thead th {\n",
       "        text-align: right;\n",
       "    }\n",
       "</style>\n",
       "<table border=\"1\" class=\"dataframe\">\n",
       "  <thead>\n",
       "    <tr style=\"text-align: right;\">\n",
       "      <th></th>\n",
       "      <th>id</th>\n",
       "      <th>current_age</th>\n",
       "      <th>retirement_age</th>\n",
       "      <th>birth_year</th>\n",
       "      <th>birth_month</th>\n",
       "      <th>gender</th>\n",
       "      <th>address</th>\n",
       "      <th>latitude</th>\n",
       "      <th>longitude</th>\n",
       "      <th>per_capita_income</th>\n",
       "      <th>yearly_income</th>\n",
       "      <th>total_debt</th>\n",
       "      <th>credit_score</th>\n",
       "      <th>num_credit_cards</th>\n",
       "    </tr>\n",
       "  </thead>\n",
       "  <tbody>\n",
       "    <tr>\n",
       "      <th>0</th>\n",
       "      <td>0</td>\n",
       "      <td>33</td>\n",
       "      <td>69</td>\n",
       "      <td>1986</td>\n",
       "      <td>3</td>\n",
       "      <td>Male</td>\n",
       "      <td>858 Plum Avenue</td>\n",
       "      <td>43.59</td>\n",
       "      <td>-70.33</td>\n",
       "      <td>$29237</td>\n",
       "      <td>$59613</td>\n",
       "      <td>$36199</td>\n",
       "      <td>763</td>\n",
       "      <td>4</td>\n",
       "    </tr>\n",
       "    <tr>\n",
       "      <th>1</th>\n",
       "      <td>1</td>\n",
       "      <td>43</td>\n",
       "      <td>74</td>\n",
       "      <td>1976</td>\n",
       "      <td>4</td>\n",
       "      <td>Female</td>\n",
       "      <td>113 Burns Lane</td>\n",
       "      <td>30.44</td>\n",
       "      <td>-87.18</td>\n",
       "      <td>$22247</td>\n",
       "      <td>$45360</td>\n",
       "      <td>$14587</td>\n",
       "      <td>704</td>\n",
       "      <td>3</td>\n",
       "    </tr>\n",
       "    <tr>\n",
       "      <th>2</th>\n",
       "      <td>2</td>\n",
       "      <td>48</td>\n",
       "      <td>64</td>\n",
       "      <td>1971</td>\n",
       "      <td>8</td>\n",
       "      <td>Male</td>\n",
       "      <td>6035 Forest Avenue</td>\n",
       "      <td>40.84</td>\n",
       "      <td>-73.87</td>\n",
       "      <td>$13461</td>\n",
       "      <td>$27447</td>\n",
       "      <td>$80850</td>\n",
       "      <td>673</td>\n",
       "      <td>5</td>\n",
       "    </tr>\n",
       "    <tr>\n",
       "      <th>3</th>\n",
       "      <td>3</td>\n",
       "      <td>49</td>\n",
       "      <td>65</td>\n",
       "      <td>1970</td>\n",
       "      <td>12</td>\n",
       "      <td>Male</td>\n",
       "      <td>840 Elm Avenue</td>\n",
       "      <td>33.89</td>\n",
       "      <td>-98.51</td>\n",
       "      <td>$13705</td>\n",
       "      <td>$27943</td>\n",
       "      <td>$18693</td>\n",
       "      <td>681</td>\n",
       "      <td>4</td>\n",
       "    </tr>\n",
       "    <tr>\n",
       "      <th>4</th>\n",
       "      <td>4</td>\n",
       "      <td>54</td>\n",
       "      <td>72</td>\n",
       "      <td>1965</td>\n",
       "      <td>3</td>\n",
       "      <td>Female</td>\n",
       "      <td>6016 Little Creek Boulevard</td>\n",
       "      <td>47.61</td>\n",
       "      <td>-122.30</td>\n",
       "      <td>$37485</td>\n",
       "      <td>$76431</td>\n",
       "      <td>$115362</td>\n",
       "      <td>716</td>\n",
       "      <td>5</td>\n",
       "    </tr>\n",
       "    <tr>\n",
       "      <th>...</th>\n",
       "      <td>...</td>\n",
       "      <td>...</td>\n",
       "      <td>...</td>\n",
       "      <td>...</td>\n",
       "      <td>...</td>\n",
       "      <td>...</td>\n",
       "      <td>...</td>\n",
       "      <td>...</td>\n",
       "      <td>...</td>\n",
       "      <td>...</td>\n",
       "      <td>...</td>\n",
       "      <td>...</td>\n",
       "      <td>...</td>\n",
       "      <td>...</td>\n",
       "    </tr>\n",
       "    <tr>\n",
       "      <th>1995</th>\n",
       "      <td>1995</td>\n",
       "      <td>64</td>\n",
       "      <td>62</td>\n",
       "      <td>1955</td>\n",
       "      <td>7</td>\n",
       "      <td>Female</td>\n",
       "      <td>28 First Lane</td>\n",
       "      <td>39.92</td>\n",
       "      <td>-77.71</td>\n",
       "      <td>$20943</td>\n",
       "      <td>$39206</td>\n",
       "      <td>$9219</td>\n",
       "      <td>605</td>\n",
       "      <td>4</td>\n",
       "    </tr>\n",
       "    <tr>\n",
       "      <th>1996</th>\n",
       "      <td>1996</td>\n",
       "      <td>46</td>\n",
       "      <td>66</td>\n",
       "      <td>1973</td>\n",
       "      <td>6</td>\n",
       "      <td>Female</td>\n",
       "      <td>7853 Grant Street</td>\n",
       "      <td>29.43</td>\n",
       "      <td>-95.24</td>\n",
       "      <td>$21956</td>\n",
       "      <td>$44768</td>\n",
       "      <td>$59862</td>\n",
       "      <td>728</td>\n",
       "      <td>3</td>\n",
       "    </tr>\n",
       "    <tr>\n",
       "      <th>1997</th>\n",
       "      <td>1997</td>\n",
       "      <td>76</td>\n",
       "      <td>69</td>\n",
       "      <td>1943</td>\n",
       "      <td>8</td>\n",
       "      <td>Male</td>\n",
       "      <td>765 Forest Street</td>\n",
       "      <td>44.92</td>\n",
       "      <td>-93.40</td>\n",
       "      <td>$39155</td>\n",
       "      <td>$38800</td>\n",
       "      <td>$25867</td>\n",
       "      <td>758</td>\n",
       "      <td>7</td>\n",
       "    </tr>\n",
       "    <tr>\n",
       "      <th>1998</th>\n",
       "      <td>1998</td>\n",
       "      <td>65</td>\n",
       "      <td>67</td>\n",
       "      <td>1954</td>\n",
       "      <td>9</td>\n",
       "      <td>Male</td>\n",
       "      <td>10 Third Avenue</td>\n",
       "      <td>37.56</td>\n",
       "      <td>-122.37</td>\n",
       "      <td>$0</td>\n",
       "      <td>$645</td>\n",
       "      <td>$790</td>\n",
       "      <td>688</td>\n",
       "      <td>3</td>\n",
       "    </tr>\n",
       "    <tr>\n",
       "      <th>1999</th>\n",
       "      <td>1999</td>\n",
       "      <td>19</td>\n",
       "      <td>69</td>\n",
       "      <td>2000</td>\n",
       "      <td>12</td>\n",
       "      <td>Male</td>\n",
       "      <td>1749 Spruce Street</td>\n",
       "      <td>31.06</td>\n",
       "      <td>-98.18</td>\n",
       "      <td>$16744</td>\n",
       "      <td>$34134</td>\n",
       "      <td>$0</td>\n",
       "      <td>683</td>\n",
       "      <td>2</td>\n",
       "    </tr>\n",
       "  </tbody>\n",
       "</table>\n",
       "<p>2000 rows × 14 columns</p>\n",
       "</div>"
      ],
      "text/plain": [
       "        id  current_age  retirement_age  birth_year  birth_month  gender  \\\n",
       "0        0           33              69        1986            3    Male   \n",
       "1        1           43              74        1976            4  Female   \n",
       "2        2           48              64        1971            8    Male   \n",
       "3        3           49              65        1970           12    Male   \n",
       "4        4           54              72        1965            3  Female   \n",
       "...    ...          ...             ...         ...          ...     ...   \n",
       "1995  1995           64              62        1955            7  Female   \n",
       "1996  1996           46              66        1973            6  Female   \n",
       "1997  1997           76              69        1943            8    Male   \n",
       "1998  1998           65              67        1954            9    Male   \n",
       "1999  1999           19              69        2000           12    Male   \n",
       "\n",
       "                          address  latitude  longitude per_capita_income  \\\n",
       "0                 858 Plum Avenue     43.59     -70.33            $29237   \n",
       "1                  113 Burns Lane     30.44     -87.18            $22247   \n",
       "2              6035 Forest Avenue     40.84     -73.87            $13461   \n",
       "3                  840 Elm Avenue     33.89     -98.51            $13705   \n",
       "4     6016 Little Creek Boulevard     47.61    -122.30            $37485   \n",
       "...                           ...       ...        ...               ...   \n",
       "1995                28 First Lane     39.92     -77.71            $20943   \n",
       "1996            7853 Grant Street     29.43     -95.24            $21956   \n",
       "1997            765 Forest Street     44.92     -93.40            $39155   \n",
       "1998              10 Third Avenue     37.56    -122.37                $0   \n",
       "1999           1749 Spruce Street     31.06     -98.18            $16744   \n",
       "\n",
       "     yearly_income total_debt  credit_score  num_credit_cards  \n",
       "0           $59613     $36199           763                 4  \n",
       "1           $45360     $14587           704                 3  \n",
       "2           $27447     $80850           673                 5  \n",
       "3           $27943     $18693           681                 4  \n",
       "4           $76431    $115362           716                 5  \n",
       "...            ...        ...           ...               ...  \n",
       "1995        $39206      $9219           605                 4  \n",
       "1996        $44768     $59862           728                 3  \n",
       "1997        $38800     $25867           758                 7  \n",
       "1998          $645       $790           688                 3  \n",
       "1999        $34134         $0           683                 2  \n",
       "\n",
       "[2000 rows x 14 columns]"
      ]
     },
     "execution_count": 71,
     "metadata": {},
     "output_type": "execute_result"
    }
   ],
   "source": [
    "user_df = pd.read_csv('users_data.csv')\n",
    "user_df.sort_values(by='id', inplace=True)\n",
    "user_df.reset_index(drop=True, inplace=True)\n",
    "user_df"
   ]
  },
  {
   "cell_type": "code",
   "execution_count": 72,
   "metadata": {},
   "outputs": [
    {
     "data": {
      "text/html": [
       "<div>\n",
       "<style scoped>\n",
       "    .dataframe tbody tr th:only-of-type {\n",
       "        vertical-align: middle;\n",
       "    }\n",
       "\n",
       "    .dataframe tbody tr th {\n",
       "        vertical-align: top;\n",
       "    }\n",
       "\n",
       "    .dataframe thead th {\n",
       "        text-align: right;\n",
       "    }\n",
       "</style>\n",
       "<table border=\"1\" class=\"dataframe\">\n",
       "  <thead>\n",
       "    <tr style=\"text-align: right;\">\n",
       "      <th></th>\n",
       "      <th>id</th>\n",
       "      <th>current_age</th>\n",
       "      <th>retirement_age</th>\n",
       "      <th>birth_year</th>\n",
       "      <th>birth_month</th>\n",
       "      <th>latitude</th>\n",
       "      <th>longitude</th>\n",
       "      <th>credit_score</th>\n",
       "      <th>num_credit_cards</th>\n",
       "    </tr>\n",
       "  </thead>\n",
       "  <tbody>\n",
       "    <tr>\n",
       "      <th>count</th>\n",
       "      <td>2000.000000</td>\n",
       "      <td>2000.000000</td>\n",
       "      <td>2000.000000</td>\n",
       "      <td>2000.000000</td>\n",
       "      <td>2000.000000</td>\n",
       "      <td>2000.000000</td>\n",
       "      <td>2000.000000</td>\n",
       "      <td>2000.000000</td>\n",
       "      <td>2000.000000</td>\n",
       "    </tr>\n",
       "    <tr>\n",
       "      <th>mean</th>\n",
       "      <td>999.500000</td>\n",
       "      <td>45.391500</td>\n",
       "      <td>66.237500</td>\n",
       "      <td>1973.803000</td>\n",
       "      <td>6.439000</td>\n",
       "      <td>37.389225</td>\n",
       "      <td>-91.554765</td>\n",
       "      <td>709.734500</td>\n",
       "      <td>3.073000</td>\n",
       "    </tr>\n",
       "    <tr>\n",
       "      <th>std</th>\n",
       "      <td>577.494589</td>\n",
       "      <td>18.414092</td>\n",
       "      <td>3.628867</td>\n",
       "      <td>18.421234</td>\n",
       "      <td>3.565338</td>\n",
       "      <td>5.114324</td>\n",
       "      <td>16.283293</td>\n",
       "      <td>67.221949</td>\n",
       "      <td>1.637379</td>\n",
       "    </tr>\n",
       "    <tr>\n",
       "      <th>min</th>\n",
       "      <td>0.000000</td>\n",
       "      <td>18.000000</td>\n",
       "      <td>50.000000</td>\n",
       "      <td>1918.000000</td>\n",
       "      <td>1.000000</td>\n",
       "      <td>20.880000</td>\n",
       "      <td>-159.410000</td>\n",
       "      <td>480.000000</td>\n",
       "      <td>1.000000</td>\n",
       "    </tr>\n",
       "    <tr>\n",
       "      <th>25%</th>\n",
       "      <td>499.750000</td>\n",
       "      <td>30.000000</td>\n",
       "      <td>65.000000</td>\n",
       "      <td>1961.000000</td>\n",
       "      <td>3.000000</td>\n",
       "      <td>33.837500</td>\n",
       "      <td>-97.395000</td>\n",
       "      <td>681.000000</td>\n",
       "      <td>2.000000</td>\n",
       "    </tr>\n",
       "    <tr>\n",
       "      <th>50%</th>\n",
       "      <td>999.500000</td>\n",
       "      <td>44.000000</td>\n",
       "      <td>66.000000</td>\n",
       "      <td>1975.000000</td>\n",
       "      <td>7.000000</td>\n",
       "      <td>38.250000</td>\n",
       "      <td>-86.440000</td>\n",
       "      <td>711.500000</td>\n",
       "      <td>3.000000</td>\n",
       "    </tr>\n",
       "    <tr>\n",
       "      <th>75%</th>\n",
       "      <td>1499.250000</td>\n",
       "      <td>58.000000</td>\n",
       "      <td>68.000000</td>\n",
       "      <td>1989.000000</td>\n",
       "      <td>10.000000</td>\n",
       "      <td>41.200000</td>\n",
       "      <td>-80.130000</td>\n",
       "      <td>753.000000</td>\n",
       "      <td>4.000000</td>\n",
       "    </tr>\n",
       "    <tr>\n",
       "      <th>max</th>\n",
       "      <td>1999.000000</td>\n",
       "      <td>101.000000</td>\n",
       "      <td>79.000000</td>\n",
       "      <td>2002.000000</td>\n",
       "      <td>12.000000</td>\n",
       "      <td>61.200000</td>\n",
       "      <td>-68.670000</td>\n",
       "      <td>850.000000</td>\n",
       "      <td>9.000000</td>\n",
       "    </tr>\n",
       "  </tbody>\n",
       "</table>\n",
       "</div>"
      ],
      "text/plain": [
       "                id  current_age  retirement_age   birth_year  birth_month  \\\n",
       "count  2000.000000  2000.000000     2000.000000  2000.000000  2000.000000   \n",
       "mean    999.500000    45.391500       66.237500  1973.803000     6.439000   \n",
       "std     577.494589    18.414092        3.628867    18.421234     3.565338   \n",
       "min       0.000000    18.000000       50.000000  1918.000000     1.000000   \n",
       "25%     499.750000    30.000000       65.000000  1961.000000     3.000000   \n",
       "50%     999.500000    44.000000       66.000000  1975.000000     7.000000   \n",
       "75%    1499.250000    58.000000       68.000000  1989.000000    10.000000   \n",
       "max    1999.000000   101.000000       79.000000  2002.000000    12.000000   \n",
       "\n",
       "          latitude    longitude  credit_score  num_credit_cards  \n",
       "count  2000.000000  2000.000000   2000.000000       2000.000000  \n",
       "mean     37.389225   -91.554765    709.734500          3.073000  \n",
       "std       5.114324    16.283293     67.221949          1.637379  \n",
       "min      20.880000  -159.410000    480.000000          1.000000  \n",
       "25%      33.837500   -97.395000    681.000000          2.000000  \n",
       "50%      38.250000   -86.440000    711.500000          3.000000  \n",
       "75%      41.200000   -80.130000    753.000000          4.000000  \n",
       "max      61.200000   -68.670000    850.000000          9.000000  "
      ]
     },
     "execution_count": 72,
     "metadata": {},
     "output_type": "execute_result"
    }
   ],
   "source": [
    "user_df.describe()"
   ]
  },
  {
   "cell_type": "code",
   "execution_count": 73,
   "metadata": {},
   "outputs": [
    {
     "data": {
      "text/plain": [
       "id                     int64\n",
       "current_age            int64\n",
       "retirement_age         int64\n",
       "birth_year             int64\n",
       "birth_month            int64\n",
       "gender                object\n",
       "address               object\n",
       "latitude             float64\n",
       "longitude            float64\n",
       "per_capita_income     object\n",
       "yearly_income         object\n",
       "total_debt            object\n",
       "credit_score           int64\n",
       "num_credit_cards       int64\n",
       "dtype: object"
      ]
     },
     "execution_count": 73,
     "metadata": {},
     "output_type": "execute_result"
    }
   ],
   "source": [
    "user_df.dtypes"
   ]
  },
  {
   "cell_type": "code",
   "execution_count": 74,
   "metadata": {},
   "outputs": [
    {
     "name": "stdout",
     "output_type": "stream",
     "text": [
      "<class 'pandas.core.frame.DataFrame'>\n",
      "RangeIndex: 2000 entries, 0 to 1999\n",
      "Data columns (total 14 columns):\n",
      " #   Column             Non-Null Count  Dtype  \n",
      "---  ------             --------------  -----  \n",
      " 0   id                 2000 non-null   int64  \n",
      " 1   current_age        2000 non-null   int64  \n",
      " 2   retirement_age     2000 non-null   int64  \n",
      " 3   birth_year         2000 non-null   int64  \n",
      " 4   birth_month        2000 non-null   int64  \n",
      " 5   gender             2000 non-null   object \n",
      " 6   address            2000 non-null   object \n",
      " 7   latitude           2000 non-null   float64\n",
      " 8   longitude          2000 non-null   float64\n",
      " 9   per_capita_income  2000 non-null   object \n",
      " 10  yearly_income      2000 non-null   object \n",
      " 11  total_debt         2000 non-null   object \n",
      " 12  credit_score       2000 non-null   int64  \n",
      " 13  num_credit_cards   2000 non-null   int64  \n",
      "dtypes: float64(2), int64(7), object(5)\n",
      "memory usage: 218.9+ KB\n"
     ]
    }
   ],
   "source": [
    "user_df.info()"
   ]
  },
  {
   "cell_type": "markdown",
   "metadata": {},
   "source": [
    "### b. Data inspection"
   ]
  },
  {
   "cell_type": "markdown",
   "metadata": {},
   "source": [
    "#### Check the null and missing value in Dataframe"
   ]
  },
  {
   "cell_type": "code",
   "execution_count": 108,
   "metadata": {},
   "outputs": [
    {
     "data": {
      "text/plain": [
       "id                   0\n",
       "current_age          0\n",
       "retirement_age       0\n",
       "birth_year           0\n",
       "birth_month          0\n",
       "gender               0\n",
       "address              0\n",
       "latitude             0\n",
       "longitude            0\n",
       "per_capita_income    0\n",
       "yearly_income        0\n",
       "total_debt           0\n",
       "credit_score         0\n",
       "num_credit_cards     0\n",
       "birthday             0\n",
       "dtype: int64"
      ]
     },
     "execution_count": 108,
     "metadata": {},
     "output_type": "execute_result"
    }
   ],
   "source": [
    "user_df.isna().sum()"
   ]
  },
  {
   "cell_type": "code",
   "execution_count": 109,
   "metadata": {},
   "outputs": [
    {
     "data": {
      "text/plain": [
       "id                   0\n",
       "current_age          0\n",
       "retirement_age       0\n",
       "birth_year           0\n",
       "birth_month          0\n",
       "gender               0\n",
       "address              0\n",
       "latitude             0\n",
       "longitude            0\n",
       "per_capita_income    0\n",
       "yearly_income        0\n",
       "total_debt           0\n",
       "credit_score         0\n",
       "num_credit_cards     0\n",
       "birthday             0\n",
       "dtype: int64"
      ]
     },
     "execution_count": 109,
     "metadata": {},
     "output_type": "execute_result"
    }
   ],
   "source": [
    "user_df.isnull().sum()"
   ]
  },
  {
   "cell_type": "markdown",
   "metadata": {},
   "source": [
    "#### Check duplicates user"
   ]
  },
  {
   "cell_type": "code",
   "execution_count": 77,
   "metadata": {},
   "outputs": [
    {
     "data": {
      "text/html": [
       "<div>\n",
       "<style scoped>\n",
       "    .dataframe tbody tr th:only-of-type {\n",
       "        vertical-align: middle;\n",
       "    }\n",
       "\n",
       "    .dataframe tbody tr th {\n",
       "        vertical-align: top;\n",
       "    }\n",
       "\n",
       "    .dataframe thead th {\n",
       "        text-align: right;\n",
       "    }\n",
       "</style>\n",
       "<table border=\"1\" class=\"dataframe\">\n",
       "  <thead>\n",
       "    <tr style=\"text-align: right;\">\n",
       "      <th></th>\n",
       "      <th>id</th>\n",
       "      <th>current_age</th>\n",
       "      <th>retirement_age</th>\n",
       "      <th>birth_year</th>\n",
       "      <th>birth_month</th>\n",
       "      <th>gender</th>\n",
       "      <th>address</th>\n",
       "      <th>latitude</th>\n",
       "      <th>longitude</th>\n",
       "      <th>per_capita_income</th>\n",
       "      <th>yearly_income</th>\n",
       "      <th>total_debt</th>\n",
       "      <th>credit_score</th>\n",
       "      <th>num_credit_cards</th>\n",
       "    </tr>\n",
       "  </thead>\n",
       "  <tbody>\n",
       "  </tbody>\n",
       "</table>\n",
       "</div>"
      ],
      "text/plain": [
       "Empty DataFrame\n",
       "Columns: [id, current_age, retirement_age, birth_year, birth_month, gender, address, latitude, longitude, per_capita_income, yearly_income, total_debt, credit_score, num_credit_cards]\n",
       "Index: []"
      ]
     },
     "execution_count": 77,
     "metadata": {},
     "output_type": "execute_result"
    }
   ],
   "source": [
    "user_df_duplicated = user_df.duplicated()\n",
    "user_df[user_df_duplicated]"
   ]
  },
  {
   "cell_type": "code",
   "execution_count": 78,
   "metadata": {},
   "outputs": [
    {
     "data": {
      "text/html": [
       "<div>\n",
       "<style scoped>\n",
       "    .dataframe tbody tr th:only-of-type {\n",
       "        vertical-align: middle;\n",
       "    }\n",
       "\n",
       "    .dataframe tbody tr th {\n",
       "        vertical-align: top;\n",
       "    }\n",
       "\n",
       "    .dataframe thead th {\n",
       "        text-align: right;\n",
       "    }\n",
       "</style>\n",
       "<table border=\"1\" class=\"dataframe\">\n",
       "  <thead>\n",
       "    <tr style=\"text-align: right;\">\n",
       "      <th></th>\n",
       "      <th>id</th>\n",
       "      <th>current_age</th>\n",
       "      <th>retirement_age</th>\n",
       "      <th>birth_year</th>\n",
       "      <th>birth_month</th>\n",
       "      <th>gender</th>\n",
       "      <th>address</th>\n",
       "      <th>latitude</th>\n",
       "      <th>longitude</th>\n",
       "      <th>per_capita_income</th>\n",
       "      <th>yearly_income</th>\n",
       "      <th>total_debt</th>\n",
       "      <th>credit_score</th>\n",
       "      <th>num_credit_cards</th>\n",
       "    </tr>\n",
       "  </thead>\n",
       "  <tbody>\n",
       "    <tr>\n",
       "      <th>0</th>\n",
       "      <td>0</td>\n",
       "      <td>33</td>\n",
       "      <td>69</td>\n",
       "      <td>1986</td>\n",
       "      <td>3</td>\n",
       "      <td>Male</td>\n",
       "      <td>858 Plum Avenue</td>\n",
       "      <td>43.59</td>\n",
       "      <td>-70.33</td>\n",
       "      <td>$29237</td>\n",
       "      <td>$59613</td>\n",
       "      <td>$36199</td>\n",
       "      <td>763</td>\n",
       "      <td>4</td>\n",
       "    </tr>\n",
       "    <tr>\n",
       "      <th>1</th>\n",
       "      <td>1</td>\n",
       "      <td>43</td>\n",
       "      <td>74</td>\n",
       "      <td>1976</td>\n",
       "      <td>4</td>\n",
       "      <td>Female</td>\n",
       "      <td>113 Burns Lane</td>\n",
       "      <td>30.44</td>\n",
       "      <td>-87.18</td>\n",
       "      <td>$22247</td>\n",
       "      <td>$45360</td>\n",
       "      <td>$14587</td>\n",
       "      <td>704</td>\n",
       "      <td>3</td>\n",
       "    </tr>\n",
       "    <tr>\n",
       "      <th>2</th>\n",
       "      <td>2</td>\n",
       "      <td>48</td>\n",
       "      <td>64</td>\n",
       "      <td>1971</td>\n",
       "      <td>8</td>\n",
       "      <td>Male</td>\n",
       "      <td>6035 Forest Avenue</td>\n",
       "      <td>40.84</td>\n",
       "      <td>-73.87</td>\n",
       "      <td>$13461</td>\n",
       "      <td>$27447</td>\n",
       "      <td>$80850</td>\n",
       "      <td>673</td>\n",
       "      <td>5</td>\n",
       "    </tr>\n",
       "    <tr>\n",
       "      <th>3</th>\n",
       "      <td>3</td>\n",
       "      <td>49</td>\n",
       "      <td>65</td>\n",
       "      <td>1970</td>\n",
       "      <td>12</td>\n",
       "      <td>Male</td>\n",
       "      <td>840 Elm Avenue</td>\n",
       "      <td>33.89</td>\n",
       "      <td>-98.51</td>\n",
       "      <td>$13705</td>\n",
       "      <td>$27943</td>\n",
       "      <td>$18693</td>\n",
       "      <td>681</td>\n",
       "      <td>4</td>\n",
       "    </tr>\n",
       "    <tr>\n",
       "      <th>4</th>\n",
       "      <td>4</td>\n",
       "      <td>54</td>\n",
       "      <td>72</td>\n",
       "      <td>1965</td>\n",
       "      <td>3</td>\n",
       "      <td>Female</td>\n",
       "      <td>6016 Little Creek Boulevard</td>\n",
       "      <td>47.61</td>\n",
       "      <td>-122.30</td>\n",
       "      <td>$37485</td>\n",
       "      <td>$76431</td>\n",
       "      <td>$115362</td>\n",
       "      <td>716</td>\n",
       "      <td>5</td>\n",
       "    </tr>\n",
       "    <tr>\n",
       "      <th>...</th>\n",
       "      <td>...</td>\n",
       "      <td>...</td>\n",
       "      <td>...</td>\n",
       "      <td>...</td>\n",
       "      <td>...</td>\n",
       "      <td>...</td>\n",
       "      <td>...</td>\n",
       "      <td>...</td>\n",
       "      <td>...</td>\n",
       "      <td>...</td>\n",
       "      <td>...</td>\n",
       "      <td>...</td>\n",
       "      <td>...</td>\n",
       "      <td>...</td>\n",
       "    </tr>\n",
       "    <tr>\n",
       "      <th>1995</th>\n",
       "      <td>1995</td>\n",
       "      <td>64</td>\n",
       "      <td>62</td>\n",
       "      <td>1955</td>\n",
       "      <td>7</td>\n",
       "      <td>Female</td>\n",
       "      <td>28 First Lane</td>\n",
       "      <td>39.92</td>\n",
       "      <td>-77.71</td>\n",
       "      <td>$20943</td>\n",
       "      <td>$39206</td>\n",
       "      <td>$9219</td>\n",
       "      <td>605</td>\n",
       "      <td>4</td>\n",
       "    </tr>\n",
       "    <tr>\n",
       "      <th>1996</th>\n",
       "      <td>1996</td>\n",
       "      <td>46</td>\n",
       "      <td>66</td>\n",
       "      <td>1973</td>\n",
       "      <td>6</td>\n",
       "      <td>Female</td>\n",
       "      <td>7853 Grant Street</td>\n",
       "      <td>29.43</td>\n",
       "      <td>-95.24</td>\n",
       "      <td>$21956</td>\n",
       "      <td>$44768</td>\n",
       "      <td>$59862</td>\n",
       "      <td>728</td>\n",
       "      <td>3</td>\n",
       "    </tr>\n",
       "    <tr>\n",
       "      <th>1997</th>\n",
       "      <td>1997</td>\n",
       "      <td>76</td>\n",
       "      <td>69</td>\n",
       "      <td>1943</td>\n",
       "      <td>8</td>\n",
       "      <td>Male</td>\n",
       "      <td>765 Forest Street</td>\n",
       "      <td>44.92</td>\n",
       "      <td>-93.40</td>\n",
       "      <td>$39155</td>\n",
       "      <td>$38800</td>\n",
       "      <td>$25867</td>\n",
       "      <td>758</td>\n",
       "      <td>7</td>\n",
       "    </tr>\n",
       "    <tr>\n",
       "      <th>1998</th>\n",
       "      <td>1998</td>\n",
       "      <td>65</td>\n",
       "      <td>67</td>\n",
       "      <td>1954</td>\n",
       "      <td>9</td>\n",
       "      <td>Male</td>\n",
       "      <td>10 Third Avenue</td>\n",
       "      <td>37.56</td>\n",
       "      <td>-122.37</td>\n",
       "      <td>$0</td>\n",
       "      <td>$645</td>\n",
       "      <td>$790</td>\n",
       "      <td>688</td>\n",
       "      <td>3</td>\n",
       "    </tr>\n",
       "    <tr>\n",
       "      <th>1999</th>\n",
       "      <td>1999</td>\n",
       "      <td>19</td>\n",
       "      <td>69</td>\n",
       "      <td>2000</td>\n",
       "      <td>12</td>\n",
       "      <td>Male</td>\n",
       "      <td>1749 Spruce Street</td>\n",
       "      <td>31.06</td>\n",
       "      <td>-98.18</td>\n",
       "      <td>$16744</td>\n",
       "      <td>$34134</td>\n",
       "      <td>$0</td>\n",
       "      <td>683</td>\n",
       "      <td>2</td>\n",
       "    </tr>\n",
       "  </tbody>\n",
       "</table>\n",
       "<p>2000 rows × 14 columns</p>\n",
       "</div>"
      ],
      "text/plain": [
       "        id  current_age  retirement_age  birth_year  birth_month  gender  \\\n",
       "0        0           33              69        1986            3    Male   \n",
       "1        1           43              74        1976            4  Female   \n",
       "2        2           48              64        1971            8    Male   \n",
       "3        3           49              65        1970           12    Male   \n",
       "4        4           54              72        1965            3  Female   \n",
       "...    ...          ...             ...         ...          ...     ...   \n",
       "1995  1995           64              62        1955            7  Female   \n",
       "1996  1996           46              66        1973            6  Female   \n",
       "1997  1997           76              69        1943            8    Male   \n",
       "1998  1998           65              67        1954            9    Male   \n",
       "1999  1999           19              69        2000           12    Male   \n",
       "\n",
       "                          address  latitude  longitude per_capita_income  \\\n",
       "0                 858 Plum Avenue     43.59     -70.33            $29237   \n",
       "1                  113 Burns Lane     30.44     -87.18            $22247   \n",
       "2              6035 Forest Avenue     40.84     -73.87            $13461   \n",
       "3                  840 Elm Avenue     33.89     -98.51            $13705   \n",
       "4     6016 Little Creek Boulevard     47.61    -122.30            $37485   \n",
       "...                           ...       ...        ...               ...   \n",
       "1995                28 First Lane     39.92     -77.71            $20943   \n",
       "1996            7853 Grant Street     29.43     -95.24            $21956   \n",
       "1997            765 Forest Street     44.92     -93.40            $39155   \n",
       "1998              10 Third Avenue     37.56    -122.37                $0   \n",
       "1999           1749 Spruce Street     31.06     -98.18            $16744   \n",
       "\n",
       "     yearly_income total_debt  credit_score  num_credit_cards  \n",
       "0           $59613     $36199           763                 4  \n",
       "1           $45360     $14587           704                 3  \n",
       "2           $27447     $80850           673                 5  \n",
       "3           $27943     $18693           681                 4  \n",
       "4           $76431    $115362           716                 5  \n",
       "...            ...        ...           ...               ...  \n",
       "1995        $39206      $9219           605                 4  \n",
       "1996        $44768     $59862           728                 3  \n",
       "1997        $38800     $25867           758                 7  \n",
       "1998          $645       $790           688                 3  \n",
       "1999        $34134         $0           683                 2  \n",
       "\n",
       "[2000 rows x 14 columns]"
      ]
     },
     "execution_count": 78,
     "metadata": {},
     "output_type": "execute_result"
    }
   ],
   "source": [
    "user_df"
   ]
  },
  {
   "cell_type": "markdown",
   "metadata": {},
   "source": [
    "#### Remove the $ sign from per_capita_income, yearly_income and total_debt"
   ]
  },
  {
   "cell_type": "code",
   "execution_count": 79,
   "metadata": {},
   "outputs": [
    {
     "data": {
      "text/html": [
       "<div>\n",
       "<style scoped>\n",
       "    .dataframe tbody tr th:only-of-type {\n",
       "        vertical-align: middle;\n",
       "    }\n",
       "\n",
       "    .dataframe tbody tr th {\n",
       "        vertical-align: top;\n",
       "    }\n",
       "\n",
       "    .dataframe thead th {\n",
       "        text-align: right;\n",
       "    }\n",
       "</style>\n",
       "<table border=\"1\" class=\"dataframe\">\n",
       "  <thead>\n",
       "    <tr style=\"text-align: right;\">\n",
       "      <th></th>\n",
       "      <th>id</th>\n",
       "      <th>current_age</th>\n",
       "      <th>retirement_age</th>\n",
       "      <th>birth_year</th>\n",
       "      <th>birth_month</th>\n",
       "      <th>gender</th>\n",
       "      <th>address</th>\n",
       "      <th>latitude</th>\n",
       "      <th>longitude</th>\n",
       "      <th>per_capita_income</th>\n",
       "      <th>yearly_income</th>\n",
       "      <th>total_debt</th>\n",
       "      <th>credit_score</th>\n",
       "      <th>num_credit_cards</th>\n",
       "    </tr>\n",
       "  </thead>\n",
       "  <tbody>\n",
       "    <tr>\n",
       "      <th>0</th>\n",
       "      <td>0</td>\n",
       "      <td>33</td>\n",
       "      <td>69</td>\n",
       "      <td>1986</td>\n",
       "      <td>3</td>\n",
       "      <td>Male</td>\n",
       "      <td>858 Plum Avenue</td>\n",
       "      <td>43.59</td>\n",
       "      <td>-70.33</td>\n",
       "      <td>29237.0</td>\n",
       "      <td>59613.0</td>\n",
       "      <td>36199.0</td>\n",
       "      <td>763</td>\n",
       "      <td>4</td>\n",
       "    </tr>\n",
       "    <tr>\n",
       "      <th>1</th>\n",
       "      <td>1</td>\n",
       "      <td>43</td>\n",
       "      <td>74</td>\n",
       "      <td>1976</td>\n",
       "      <td>4</td>\n",
       "      <td>Female</td>\n",
       "      <td>113 Burns Lane</td>\n",
       "      <td>30.44</td>\n",
       "      <td>-87.18</td>\n",
       "      <td>22247.0</td>\n",
       "      <td>45360.0</td>\n",
       "      <td>14587.0</td>\n",
       "      <td>704</td>\n",
       "      <td>3</td>\n",
       "    </tr>\n",
       "    <tr>\n",
       "      <th>2</th>\n",
       "      <td>2</td>\n",
       "      <td>48</td>\n",
       "      <td>64</td>\n",
       "      <td>1971</td>\n",
       "      <td>8</td>\n",
       "      <td>Male</td>\n",
       "      <td>6035 Forest Avenue</td>\n",
       "      <td>40.84</td>\n",
       "      <td>-73.87</td>\n",
       "      <td>13461.0</td>\n",
       "      <td>27447.0</td>\n",
       "      <td>80850.0</td>\n",
       "      <td>673</td>\n",
       "      <td>5</td>\n",
       "    </tr>\n",
       "    <tr>\n",
       "      <th>3</th>\n",
       "      <td>3</td>\n",
       "      <td>49</td>\n",
       "      <td>65</td>\n",
       "      <td>1970</td>\n",
       "      <td>12</td>\n",
       "      <td>Male</td>\n",
       "      <td>840 Elm Avenue</td>\n",
       "      <td>33.89</td>\n",
       "      <td>-98.51</td>\n",
       "      <td>13705.0</td>\n",
       "      <td>27943.0</td>\n",
       "      <td>18693.0</td>\n",
       "      <td>681</td>\n",
       "      <td>4</td>\n",
       "    </tr>\n",
       "    <tr>\n",
       "      <th>4</th>\n",
       "      <td>4</td>\n",
       "      <td>54</td>\n",
       "      <td>72</td>\n",
       "      <td>1965</td>\n",
       "      <td>3</td>\n",
       "      <td>Female</td>\n",
       "      <td>6016 Little Creek Boulevard</td>\n",
       "      <td>47.61</td>\n",
       "      <td>-122.30</td>\n",
       "      <td>37485.0</td>\n",
       "      <td>76431.0</td>\n",
       "      <td>115362.0</td>\n",
       "      <td>716</td>\n",
       "      <td>5</td>\n",
       "    </tr>\n",
       "    <tr>\n",
       "      <th>...</th>\n",
       "      <td>...</td>\n",
       "      <td>...</td>\n",
       "      <td>...</td>\n",
       "      <td>...</td>\n",
       "      <td>...</td>\n",
       "      <td>...</td>\n",
       "      <td>...</td>\n",
       "      <td>...</td>\n",
       "      <td>...</td>\n",
       "      <td>...</td>\n",
       "      <td>...</td>\n",
       "      <td>...</td>\n",
       "      <td>...</td>\n",
       "      <td>...</td>\n",
       "    </tr>\n",
       "    <tr>\n",
       "      <th>1995</th>\n",
       "      <td>1995</td>\n",
       "      <td>64</td>\n",
       "      <td>62</td>\n",
       "      <td>1955</td>\n",
       "      <td>7</td>\n",
       "      <td>Female</td>\n",
       "      <td>28 First Lane</td>\n",
       "      <td>39.92</td>\n",
       "      <td>-77.71</td>\n",
       "      <td>20943.0</td>\n",
       "      <td>39206.0</td>\n",
       "      <td>9219.0</td>\n",
       "      <td>605</td>\n",
       "      <td>4</td>\n",
       "    </tr>\n",
       "    <tr>\n",
       "      <th>1996</th>\n",
       "      <td>1996</td>\n",
       "      <td>46</td>\n",
       "      <td>66</td>\n",
       "      <td>1973</td>\n",
       "      <td>6</td>\n",
       "      <td>Female</td>\n",
       "      <td>7853 Grant Street</td>\n",
       "      <td>29.43</td>\n",
       "      <td>-95.24</td>\n",
       "      <td>21956.0</td>\n",
       "      <td>44768.0</td>\n",
       "      <td>59862.0</td>\n",
       "      <td>728</td>\n",
       "      <td>3</td>\n",
       "    </tr>\n",
       "    <tr>\n",
       "      <th>1997</th>\n",
       "      <td>1997</td>\n",
       "      <td>76</td>\n",
       "      <td>69</td>\n",
       "      <td>1943</td>\n",
       "      <td>8</td>\n",
       "      <td>Male</td>\n",
       "      <td>765 Forest Street</td>\n",
       "      <td>44.92</td>\n",
       "      <td>-93.40</td>\n",
       "      <td>39155.0</td>\n",
       "      <td>38800.0</td>\n",
       "      <td>25867.0</td>\n",
       "      <td>758</td>\n",
       "      <td>7</td>\n",
       "    </tr>\n",
       "    <tr>\n",
       "      <th>1998</th>\n",
       "      <td>1998</td>\n",
       "      <td>65</td>\n",
       "      <td>67</td>\n",
       "      <td>1954</td>\n",
       "      <td>9</td>\n",
       "      <td>Male</td>\n",
       "      <td>10 Third Avenue</td>\n",
       "      <td>37.56</td>\n",
       "      <td>-122.37</td>\n",
       "      <td>0.0</td>\n",
       "      <td>645.0</td>\n",
       "      <td>790.0</td>\n",
       "      <td>688</td>\n",
       "      <td>3</td>\n",
       "    </tr>\n",
       "    <tr>\n",
       "      <th>1999</th>\n",
       "      <td>1999</td>\n",
       "      <td>19</td>\n",
       "      <td>69</td>\n",
       "      <td>2000</td>\n",
       "      <td>12</td>\n",
       "      <td>Male</td>\n",
       "      <td>1749 Spruce Street</td>\n",
       "      <td>31.06</td>\n",
       "      <td>-98.18</td>\n",
       "      <td>16744.0</td>\n",
       "      <td>34134.0</td>\n",
       "      <td>0.0</td>\n",
       "      <td>683</td>\n",
       "      <td>2</td>\n",
       "    </tr>\n",
       "  </tbody>\n",
       "</table>\n",
       "<p>2000 rows × 14 columns</p>\n",
       "</div>"
      ],
      "text/plain": [
       "        id  current_age  retirement_age  birth_year  birth_month  gender  \\\n",
       "0        0           33              69        1986            3    Male   \n",
       "1        1           43              74        1976            4  Female   \n",
       "2        2           48              64        1971            8    Male   \n",
       "3        3           49              65        1970           12    Male   \n",
       "4        4           54              72        1965            3  Female   \n",
       "...    ...          ...             ...         ...          ...     ...   \n",
       "1995  1995           64              62        1955            7  Female   \n",
       "1996  1996           46              66        1973            6  Female   \n",
       "1997  1997           76              69        1943            8    Male   \n",
       "1998  1998           65              67        1954            9    Male   \n",
       "1999  1999           19              69        2000           12    Male   \n",
       "\n",
       "                          address  latitude  longitude  per_capita_income  \\\n",
       "0                 858 Plum Avenue     43.59     -70.33            29237.0   \n",
       "1                  113 Burns Lane     30.44     -87.18            22247.0   \n",
       "2              6035 Forest Avenue     40.84     -73.87            13461.0   \n",
       "3                  840 Elm Avenue     33.89     -98.51            13705.0   \n",
       "4     6016 Little Creek Boulevard     47.61    -122.30            37485.0   \n",
       "...                           ...       ...        ...                ...   \n",
       "1995                28 First Lane     39.92     -77.71            20943.0   \n",
       "1996            7853 Grant Street     29.43     -95.24            21956.0   \n",
       "1997            765 Forest Street     44.92     -93.40            39155.0   \n",
       "1998              10 Third Avenue     37.56    -122.37                0.0   \n",
       "1999           1749 Spruce Street     31.06     -98.18            16744.0   \n",
       "\n",
       "      yearly_income  total_debt  credit_score  num_credit_cards  \n",
       "0           59613.0     36199.0           763                 4  \n",
       "1           45360.0     14587.0           704                 3  \n",
       "2           27447.0     80850.0           673                 5  \n",
       "3           27943.0     18693.0           681                 4  \n",
       "4           76431.0    115362.0           716                 5  \n",
       "...             ...         ...           ...               ...  \n",
       "1995        39206.0      9219.0           605                 4  \n",
       "1996        44768.0     59862.0           728                 3  \n",
       "1997        38800.0     25867.0           758                 7  \n",
       "1998          645.0       790.0           688                 3  \n",
       "1999        34134.0         0.0           683                 2  \n",
       "\n",
       "[2000 rows x 14 columns]"
      ]
     },
     "execution_count": 79,
     "metadata": {},
     "output_type": "execute_result"
    }
   ],
   "source": [
    "user_df['per_capita_income'] = user_df['per_capita_income'].str.replace(r\"\\$\", '', regex=True).astype(float)\n",
    "user_df['yearly_income'] = user_df['yearly_income'].str.replace(r\"\\$\", '', regex=True).astype(float)\n",
    "user_df['total_debt'] = user_df['total_debt'].str.replace(r\"\\$\", '', regex=True).astype(float)\n",
    "user_df"
   ]
  },
  {
   "cell_type": "markdown",
   "metadata": {},
   "source": [
    "#### Add user's birthday column (only have birth_year and birth_month), in case necessary. The column's type is object, not datetime"
   ]
  },
  {
   "cell_type": "code",
   "execution_count": 80,
   "metadata": {},
   "outputs": [],
   "source": [
    "user_df['birthday'] = user_df['birth_year'].astype(str) + '/' + user_df['birth_month'].astype(str).str.zfill(2)"
   ]
  },
  {
   "cell_type": "code",
   "execution_count": 81,
   "metadata": {},
   "outputs": [
    {
     "name": "stdout",
     "output_type": "stream",
     "text": [
      "<class 'pandas.core.frame.DataFrame'>\n",
      "RangeIndex: 2000 entries, 0 to 1999\n",
      "Data columns (total 15 columns):\n",
      " #   Column             Non-Null Count  Dtype  \n",
      "---  ------             --------------  -----  \n",
      " 0   id                 2000 non-null   int64  \n",
      " 1   current_age        2000 non-null   int64  \n",
      " 2   retirement_age     2000 non-null   int64  \n",
      " 3   birth_year         2000 non-null   int64  \n",
      " 4   birth_month        2000 non-null   int64  \n",
      " 5   gender             2000 non-null   object \n",
      " 6   address            2000 non-null   object \n",
      " 7   latitude           2000 non-null   float64\n",
      " 8   longitude          2000 non-null   float64\n",
      " 9   per_capita_income  2000 non-null   float64\n",
      " 10  yearly_income      2000 non-null   float64\n",
      " 11  total_debt         2000 non-null   float64\n",
      " 12  credit_score       2000 non-null   int64  \n",
      " 13  num_credit_cards   2000 non-null   int64  \n",
      " 14  birthday           2000 non-null   object \n",
      "dtypes: float64(5), int64(7), object(3)\n",
      "memory usage: 234.5+ KB\n"
     ]
    },
    {
     "data": {
      "text/html": [
       "<div>\n",
       "<style scoped>\n",
       "    .dataframe tbody tr th:only-of-type {\n",
       "        vertical-align: middle;\n",
       "    }\n",
       "\n",
       "    .dataframe tbody tr th {\n",
       "        vertical-align: top;\n",
       "    }\n",
       "\n",
       "    .dataframe thead th {\n",
       "        text-align: right;\n",
       "    }\n",
       "</style>\n",
       "<table border=\"1\" class=\"dataframe\">\n",
       "  <thead>\n",
       "    <tr style=\"text-align: right;\">\n",
       "      <th></th>\n",
       "      <th>id</th>\n",
       "      <th>current_age</th>\n",
       "      <th>retirement_age</th>\n",
       "      <th>birth_year</th>\n",
       "      <th>birth_month</th>\n",
       "      <th>gender</th>\n",
       "      <th>address</th>\n",
       "      <th>latitude</th>\n",
       "      <th>longitude</th>\n",
       "      <th>per_capita_income</th>\n",
       "      <th>yearly_income</th>\n",
       "      <th>total_debt</th>\n",
       "      <th>credit_score</th>\n",
       "      <th>num_credit_cards</th>\n",
       "      <th>birthday</th>\n",
       "    </tr>\n",
       "  </thead>\n",
       "  <tbody>\n",
       "    <tr>\n",
       "      <th>0</th>\n",
       "      <td>0</td>\n",
       "      <td>33</td>\n",
       "      <td>69</td>\n",
       "      <td>1986</td>\n",
       "      <td>3</td>\n",
       "      <td>Male</td>\n",
       "      <td>858 Plum Avenue</td>\n",
       "      <td>43.59</td>\n",
       "      <td>-70.33</td>\n",
       "      <td>29237.0</td>\n",
       "      <td>59613.0</td>\n",
       "      <td>36199.0</td>\n",
       "      <td>763</td>\n",
       "      <td>4</td>\n",
       "      <td>1986/03</td>\n",
       "    </tr>\n",
       "    <tr>\n",
       "      <th>1</th>\n",
       "      <td>1</td>\n",
       "      <td>43</td>\n",
       "      <td>74</td>\n",
       "      <td>1976</td>\n",
       "      <td>4</td>\n",
       "      <td>Female</td>\n",
       "      <td>113 Burns Lane</td>\n",
       "      <td>30.44</td>\n",
       "      <td>-87.18</td>\n",
       "      <td>22247.0</td>\n",
       "      <td>45360.0</td>\n",
       "      <td>14587.0</td>\n",
       "      <td>704</td>\n",
       "      <td>3</td>\n",
       "      <td>1976/04</td>\n",
       "    </tr>\n",
       "    <tr>\n",
       "      <th>2</th>\n",
       "      <td>2</td>\n",
       "      <td>48</td>\n",
       "      <td>64</td>\n",
       "      <td>1971</td>\n",
       "      <td>8</td>\n",
       "      <td>Male</td>\n",
       "      <td>6035 Forest Avenue</td>\n",
       "      <td>40.84</td>\n",
       "      <td>-73.87</td>\n",
       "      <td>13461.0</td>\n",
       "      <td>27447.0</td>\n",
       "      <td>80850.0</td>\n",
       "      <td>673</td>\n",
       "      <td>5</td>\n",
       "      <td>1971/08</td>\n",
       "    </tr>\n",
       "    <tr>\n",
       "      <th>3</th>\n",
       "      <td>3</td>\n",
       "      <td>49</td>\n",
       "      <td>65</td>\n",
       "      <td>1970</td>\n",
       "      <td>12</td>\n",
       "      <td>Male</td>\n",
       "      <td>840 Elm Avenue</td>\n",
       "      <td>33.89</td>\n",
       "      <td>-98.51</td>\n",
       "      <td>13705.0</td>\n",
       "      <td>27943.0</td>\n",
       "      <td>18693.0</td>\n",
       "      <td>681</td>\n",
       "      <td>4</td>\n",
       "      <td>1970/12</td>\n",
       "    </tr>\n",
       "    <tr>\n",
       "      <th>4</th>\n",
       "      <td>4</td>\n",
       "      <td>54</td>\n",
       "      <td>72</td>\n",
       "      <td>1965</td>\n",
       "      <td>3</td>\n",
       "      <td>Female</td>\n",
       "      <td>6016 Little Creek Boulevard</td>\n",
       "      <td>47.61</td>\n",
       "      <td>-122.30</td>\n",
       "      <td>37485.0</td>\n",
       "      <td>76431.0</td>\n",
       "      <td>115362.0</td>\n",
       "      <td>716</td>\n",
       "      <td>5</td>\n",
       "      <td>1965/03</td>\n",
       "    </tr>\n",
       "    <tr>\n",
       "      <th>...</th>\n",
       "      <td>...</td>\n",
       "      <td>...</td>\n",
       "      <td>...</td>\n",
       "      <td>...</td>\n",
       "      <td>...</td>\n",
       "      <td>...</td>\n",
       "      <td>...</td>\n",
       "      <td>...</td>\n",
       "      <td>...</td>\n",
       "      <td>...</td>\n",
       "      <td>...</td>\n",
       "      <td>...</td>\n",
       "      <td>...</td>\n",
       "      <td>...</td>\n",
       "      <td>...</td>\n",
       "    </tr>\n",
       "    <tr>\n",
       "      <th>1995</th>\n",
       "      <td>1995</td>\n",
       "      <td>64</td>\n",
       "      <td>62</td>\n",
       "      <td>1955</td>\n",
       "      <td>7</td>\n",
       "      <td>Female</td>\n",
       "      <td>28 First Lane</td>\n",
       "      <td>39.92</td>\n",
       "      <td>-77.71</td>\n",
       "      <td>20943.0</td>\n",
       "      <td>39206.0</td>\n",
       "      <td>9219.0</td>\n",
       "      <td>605</td>\n",
       "      <td>4</td>\n",
       "      <td>1955/07</td>\n",
       "    </tr>\n",
       "    <tr>\n",
       "      <th>1996</th>\n",
       "      <td>1996</td>\n",
       "      <td>46</td>\n",
       "      <td>66</td>\n",
       "      <td>1973</td>\n",
       "      <td>6</td>\n",
       "      <td>Female</td>\n",
       "      <td>7853 Grant Street</td>\n",
       "      <td>29.43</td>\n",
       "      <td>-95.24</td>\n",
       "      <td>21956.0</td>\n",
       "      <td>44768.0</td>\n",
       "      <td>59862.0</td>\n",
       "      <td>728</td>\n",
       "      <td>3</td>\n",
       "      <td>1973/06</td>\n",
       "    </tr>\n",
       "    <tr>\n",
       "      <th>1997</th>\n",
       "      <td>1997</td>\n",
       "      <td>76</td>\n",
       "      <td>69</td>\n",
       "      <td>1943</td>\n",
       "      <td>8</td>\n",
       "      <td>Male</td>\n",
       "      <td>765 Forest Street</td>\n",
       "      <td>44.92</td>\n",
       "      <td>-93.40</td>\n",
       "      <td>39155.0</td>\n",
       "      <td>38800.0</td>\n",
       "      <td>25867.0</td>\n",
       "      <td>758</td>\n",
       "      <td>7</td>\n",
       "      <td>1943/08</td>\n",
       "    </tr>\n",
       "    <tr>\n",
       "      <th>1998</th>\n",
       "      <td>1998</td>\n",
       "      <td>65</td>\n",
       "      <td>67</td>\n",
       "      <td>1954</td>\n",
       "      <td>9</td>\n",
       "      <td>Male</td>\n",
       "      <td>10 Third Avenue</td>\n",
       "      <td>37.56</td>\n",
       "      <td>-122.37</td>\n",
       "      <td>0.0</td>\n",
       "      <td>645.0</td>\n",
       "      <td>790.0</td>\n",
       "      <td>688</td>\n",
       "      <td>3</td>\n",
       "      <td>1954/09</td>\n",
       "    </tr>\n",
       "    <tr>\n",
       "      <th>1999</th>\n",
       "      <td>1999</td>\n",
       "      <td>19</td>\n",
       "      <td>69</td>\n",
       "      <td>2000</td>\n",
       "      <td>12</td>\n",
       "      <td>Male</td>\n",
       "      <td>1749 Spruce Street</td>\n",
       "      <td>31.06</td>\n",
       "      <td>-98.18</td>\n",
       "      <td>16744.0</td>\n",
       "      <td>34134.0</td>\n",
       "      <td>0.0</td>\n",
       "      <td>683</td>\n",
       "      <td>2</td>\n",
       "      <td>2000/12</td>\n",
       "    </tr>\n",
       "  </tbody>\n",
       "</table>\n",
       "<p>2000 rows × 15 columns</p>\n",
       "</div>"
      ],
      "text/plain": [
       "        id  current_age  retirement_age  birth_year  birth_month  gender  \\\n",
       "0        0           33              69        1986            3    Male   \n",
       "1        1           43              74        1976            4  Female   \n",
       "2        2           48              64        1971            8    Male   \n",
       "3        3           49              65        1970           12    Male   \n",
       "4        4           54              72        1965            3  Female   \n",
       "...    ...          ...             ...         ...          ...     ...   \n",
       "1995  1995           64              62        1955            7  Female   \n",
       "1996  1996           46              66        1973            6  Female   \n",
       "1997  1997           76              69        1943            8    Male   \n",
       "1998  1998           65              67        1954            9    Male   \n",
       "1999  1999           19              69        2000           12    Male   \n",
       "\n",
       "                          address  latitude  longitude  per_capita_income  \\\n",
       "0                 858 Plum Avenue     43.59     -70.33            29237.0   \n",
       "1                  113 Burns Lane     30.44     -87.18            22247.0   \n",
       "2              6035 Forest Avenue     40.84     -73.87            13461.0   \n",
       "3                  840 Elm Avenue     33.89     -98.51            13705.0   \n",
       "4     6016 Little Creek Boulevard     47.61    -122.30            37485.0   \n",
       "...                           ...       ...        ...                ...   \n",
       "1995                28 First Lane     39.92     -77.71            20943.0   \n",
       "1996            7853 Grant Street     29.43     -95.24            21956.0   \n",
       "1997            765 Forest Street     44.92     -93.40            39155.0   \n",
       "1998              10 Third Avenue     37.56    -122.37                0.0   \n",
       "1999           1749 Spruce Street     31.06     -98.18            16744.0   \n",
       "\n",
       "      yearly_income  total_debt  credit_score  num_credit_cards birthday  \n",
       "0           59613.0     36199.0           763                 4  1986/03  \n",
       "1           45360.0     14587.0           704                 3  1976/04  \n",
       "2           27447.0     80850.0           673                 5  1971/08  \n",
       "3           27943.0     18693.0           681                 4  1970/12  \n",
       "4           76431.0    115362.0           716                 5  1965/03  \n",
       "...             ...         ...           ...               ...      ...  \n",
       "1995        39206.0      9219.0           605                 4  1955/07  \n",
       "1996        44768.0     59862.0           728                 3  1973/06  \n",
       "1997        38800.0     25867.0           758                 7  1943/08  \n",
       "1998          645.0       790.0           688                 3  1954/09  \n",
       "1999        34134.0         0.0           683                 2  2000/12  \n",
       "\n",
       "[2000 rows x 15 columns]"
      ]
     },
     "execution_count": 81,
     "metadata": {},
     "output_type": "execute_result"
    }
   ],
   "source": [
    "user_df.info()\n",
    "user_df"
   ]
  },
  {
   "cell_type": "markdown",
   "metadata": {},
   "source": [
    "### c. Exploratory analysis"
   ]
  },
  {
   "cell_type": "markdown",
   "metadata": {},
   "source": [
    "#### Check how many percentage are retired atm by comparing retirement_age with current_age"
   ]
  },
  {
   "cell_type": "code",
   "execution_count": 145,
   "metadata": {},
   "outputs": [
    {
     "data": {
      "image/png": "[encoded data removed]",
      "text/plain": [
       "<Figure size 1200x600 with 1 Axes>"
      ]
     },
     "metadata": {},
     "output_type": "display_data"
    }
   ],
   "source": [
    "# Add a column to check if the person is retired: True if the current age is larger than retirement age and False otherwise\n",
    "user_df['retired'] = user_df['current_age'] >= user_df['retirement_age']\n",
    "retired_count = user_df['retired'].value_counts()\n",
    "\n",
    "# Rename the index\n",
    "retired_count = retired_count.rename(index={True:'Retirees', False:'Non-retirees'})\n",
    "\n",
    "# Plot the pie chart\n",
    "fig, ax = plt.subplots(figsize=(12,6))\n",
    "colors = ['#2596be', '#eaa154']\n",
    "ax.pie(retired_count, autopct='%1.1f%%', colors=colors)\n",
    "ax.legend(retired_count.index)\n",
    "ax.set_title('Retired customers percentage')\n",
    "plt.tight_layout()\n",
    "plt.show()"
   ]
  },
  {
   "cell_type": "markdown",
   "metadata": {},
   "source": [
    "#### Analyze percentage of retirees and non-retirees customers among male and female "
   ]
  },
  {
   "cell_type": "code",
   "execution_count": 185,
   "metadata": {},
   "outputs": [
    {
     "data": {
      "image/png": "[encoded data removed]",
      "text/plain": [
       "<Figure size 1200x600 with 1 Axes>"
      ]
     },
     "metadata": {},
     "output_type": "display_data"
    }
   ],
   "source": [
    "# Create a cross-tabulation of gender and retirement status\n",
    "cross_tab = pd.crosstab(user_df['retired'], user_df['gender'])\n",
    "\n",
    "# Calculate percentage\n",
    "cross_tab_percentage = cross_tab.div(cross_tab.sum(axis=1), axis=0) * 100\n",
    "\n",
    "# Create a stacked bar chart\n",
    "fig, ax = plt.subplots(figsize = (12, 6))\n",
    "cross_tab_percentage.plot(kind='bar', stacked=True, ax=ax)\n",
    "ax.set_title('Percentage of male and female by retirement status')\n",
    "ax.set_xlabel('Retirement status')\n",
    "ax.set_ylabel('Percentage')\n",
    "# ax.set_xticks({True:'Retirees', False:'Non-retirees'})\n",
    "ax.set_xticklabels(['Non-retirees', 'Retirees'], rotation=True)\n",
    "\n",
    "for c in ax.containers:\n",
    "\tax.bar_label(c, fmt='%1.1f%%', label_type='center')\n",
    "\n",
    "plt.tight_layout()\n",
    "plt.show()\n"
   ]
  },
  {
   "cell_type": "markdown",
   "metadata": {},
   "source": [
    "#### Plot the distribution of customers on maps"
   ]
  },
  {
   "cell_type": "code",
   "execution_count": null,
   "metadata": {},
   "outputs": [],
   "source": []
  },
  {
   "cell_type": "markdown",
   "metadata": {},
   "source": [
    "#### Customers have higher and lower yearly_income than per_capital_income"
   ]
  },
  {
   "cell_type": "code",
   "execution_count": null,
   "metadata": {},
   "outputs": [],
   "source": []
  },
  {
   "cell_type": "markdown",
   "metadata": {},
   "source": [
    "#### Correlation between total_debt and credit_scores"
   ]
  },
  {
   "cell_type": "code",
   "execution_count": null,
   "metadata": {},
   "outputs": [],
   "source": []
  }
 ],
 "metadata": {
  "kernelspec": {
   "display_name": "Python 3",
   "language": "python",
   "name": "python3"
  },
  "language_info": {
   "codemirror_mode": {
    "name": "ipython",
    "version": 3
   },
   "file_extension": ".py",
   "mimetype": "text/x-python",
   "name": "python",
   "nbconvert_exporter": "python",
   "pygments_lexer": "ipython3",
   "version": "3.12.3"
  }
 },
 "nbformat": 4,
 "nbformat_minor": 2
}
